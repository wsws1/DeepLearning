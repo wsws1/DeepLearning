{
 "cells": [
  {
   "cell_type": "markdown",
   "id": "a651492f",
   "metadata": {},
   "source": [
    "## DNN 与 dropout"
   ]
  },
  {
   "cell_type": "code",
   "execution_count": 1,
   "id": "3c1c039a",
   "metadata": {},
   "outputs": [],
   "source": [
    "import matplotlib as mpl\n",
    "import matplotlib.pyplot as plt\n",
    "import numpy as np\n",
    "import sklearn\n",
    "import pandas as pd\n",
    "import os,sys,time\n",
    "import tensorflow as tf\n",
    "from tensorflow import keras"
   ]
  },
  {
   "cell_type": "code",
   "execution_count": 2,
   "id": "560bfca4",
   "metadata": {},
   "outputs": [],
   "source": [
    "fashion_mnist = keras.datasets.fashion_mnist\n",
    "(X_train, y_train),(X_test, y_test) = fashion_mnist.load_data()\n",
    "X_train = X_train.reshape(X_train.shape[0],-1)\n",
    "X_test = X_test.reshape(X_test.shape[0],-1)\n",
    "X_valid, X_train = X_train[:5000],X_train[5000:]\n",
    "y_valid, y_train = y_train[:5000],y_train[5000:]"
   ]
  },
  {
   "cell_type": "code",
   "execution_count": 3,
   "id": "52afb17a",
   "metadata": {},
   "outputs": [
    {
     "data": {
      "text/plain": [
       "StandardScaler()"
      ]
     },
     "execution_count": 3,
     "metadata": {},
     "output_type": "execute_result"
    }
   ],
   "source": [
    "# x = (x - u) / std\n",
    "from sklearn.preprocessing import StandardScaler\n",
    "std_scaler = StandardScaler()\n",
    "std_scaler.fit(X_train.astype(np.float32))"
   ]
  },
  {
   "cell_type": "code",
   "execution_count": 4,
   "id": "e72f5da9",
   "metadata": {},
   "outputs": [],
   "source": [
    "# X_train_std = std_scaler.transform(X_train.astype(np.float32)).reshape(X_train.shape[0],28,28)\n",
    "# X_valid_std = std_scaler.transform(X_valid.astype(np.float32)).reshape(X_valid.shape[0],28,28)\n",
    "# X_test_std = std_scaler.transform(X_test.astype(np.float32)).reshape(X_test.shape[0],28,28)"
   ]
  },
  {
   "cell_type": "code",
   "execution_count": 5,
   "id": "b50c2d34",
   "metadata": {},
   "outputs": [
    {
     "name": "stderr",
     "output_type": "stream",
     "text": [
      "2021-07-25 17:20:20.910319: I tensorflow/core/platform/cpu_feature_guard.cc:142] This TensorFlow binary is optimized with oneAPI Deep Neural Network Library (oneDNN) to use the following CPU instructions in performance-critical operations:  AVX2 FMA\n",
      "To enable them in other operations, rebuild TensorFlow with the appropriate compiler flags.\n"
     ]
    }
   ],
   "source": [
    "# 使用sequential\n",
    "model = keras.models.Sequential()\n",
    "model.add(keras.layers.Flatten(input_shape=[28,28]))\n",
    "for _ in range(20):\n",
    "    model.add(keras.layers.Dense(100,activation='relu'))\n",
    "# dropout layer 会加在上最邻近的上一层\n",
    "model.add(keras.layers.AlphaDropout(rate=0.5))\n",
    "# AlphaDropout vs Dropout\n",
    "# 1.均值方差不变 2.归一化性质也不变\n",
    "model.add(keras.layers.Dense(10,activation='softmax'))\n",
    "\n",
    "model.compile(loss='sparse_categorical_crossentropy',\n",
    "             optimizer='sgd',\n",
    "             metrics=['accuracy'])"
   ]
  },
  {
   "cell_type": "code",
   "execution_count": 6,
   "id": "d282e7e6",
   "metadata": {},
   "outputs": [],
   "source": [
    "tf.keras.optimizers.Optimizer?"
   ]
  },
  {
   "cell_type": "code",
   "execution_count": 7,
   "id": "2bc1df37",
   "metadata": {},
   "outputs": [
    {
     "name": "stderr",
     "output_type": "stream",
     "text": [
      "2021-07-25 17:20:21.549253: I tensorflow/core/profiler/lib/profiler_session.cc:126] Profiler session initializing.\n",
      "2021-07-25 17:20:21.549281: I tensorflow/core/profiler/lib/profiler_session.cc:141] Profiler session started.\n",
      "2021-07-25 17:20:21.550763: I tensorflow/core/profiler/lib/profiler_session.cc:159] Profiler session tear down.\n"
     ]
    }
   ],
   "source": [
    "logdir='./dnn-dropout-callbacks'\n",
    "if not os.path.exists(logdir):\n",
    "    os.mkdir(logdir)\n",
    "output_model_file = os.path.join(logdir,\"fashion_minist_model.h5\")\n",
    "callbacks = [\n",
    "    keras.callbacks.TensorBoard(logdir),\n",
    "    keras.callbacks.ModelCheckpoint(output_model_file,\n",
    "                                   save_best_only=True),\n",
    "    keras.callbacks.EarlyStopping(patience=5,min_delta=1e-3)\n",
    "]"
   ]
  },
  {
   "cell_type": "code",
   "execution_count": 8,
   "id": "3e4a16f6",
   "metadata": {},
   "outputs": [
    {
     "data": {
      "text/plain": [
       "[<tensorflow.python.keras.layers.core.Flatten at 0x15bad1040>,\n",
       " <tensorflow.python.keras.layers.core.Dense at 0x15bad10d0>,\n",
       " <tensorflow.python.keras.layers.core.Dense at 0x15bb2bd60>,\n",
       " <tensorflow.python.keras.layers.core.Dense at 0x15bb88820>,\n",
       " <tensorflow.python.keras.layers.core.Dense at 0x15bbd2eb0>,\n",
       " <tensorflow.python.keras.layers.core.Dense at 0x15bc276a0>,\n",
       " <tensorflow.python.keras.layers.core.Dense at 0x15bc2b5e0>,\n",
       " <tensorflow.python.keras.layers.core.Dense at 0x15bc2bdf0>,\n",
       " <tensorflow.python.keras.layers.core.Dense at 0x15bc33400>,\n",
       " <tensorflow.python.keras.layers.core.Dense at 0x15bc39160>,\n",
       " <tensorflow.python.keras.layers.core.Dense at 0x15bc400d0>,\n",
       " <tensorflow.python.keras.layers.core.Dense at 0x15bc40fa0>,\n",
       " <tensorflow.python.keras.layers.core.Dense at 0x15bc47190>,\n",
       " <tensorflow.python.keras.layers.core.Dense at 0x15bc4c1c0>,\n",
       " <tensorflow.python.keras.layers.core.Dense at 0x15bc33850>,\n",
       " <tensorflow.python.keras.layers.core.Dense at 0x15bc4c4f0>,\n",
       " <tensorflow.python.keras.layers.core.Dense at 0x15bc53af0>,\n",
       " <tensorflow.python.keras.layers.core.Dense at 0x15bc58a30>,\n",
       " <tensorflow.python.keras.layers.core.Dense at 0x15bc39370>,\n",
       " <tensorflow.python.keras.layers.core.Dense at 0x15bc60550>,\n",
       " <tensorflow.python.keras.layers.core.Dense at 0x15bc62490>,\n",
       " <tensorflow.python.keras.layers.noise.AlphaDropout at 0x15bb2b7f0>,\n",
       " <tensorflow.python.keras.layers.core.Dense at 0x15bad1100>]"
      ]
     },
     "execution_count": 8,
     "metadata": {},
     "output_type": "execute_result"
    }
   ],
   "source": [
    "model.layers"
   ]
  },
  {
   "cell_type": "code",
   "execution_count": 9,
   "id": "b7496894",
   "metadata": {},
   "outputs": [
    {
     "name": "stdout",
     "output_type": "stream",
     "text": [
      "Model: \"sequential\"\n",
      "_________________________________________________________________\n",
      "Layer (type)                 Output Shape              Param #   \n",
      "=================================================================\n",
      "flatten (Flatten)            (None, 784)               0         \n",
      "_________________________________________________________________\n",
      "dense (Dense)                (None, 100)               78500     \n",
      "_________________________________________________________________\n",
      "dense_1 (Dense)              (None, 100)               10100     \n",
      "_________________________________________________________________\n",
      "dense_2 (Dense)              (None, 100)               10100     \n",
      "_________________________________________________________________\n",
      "dense_3 (Dense)              (None, 100)               10100     \n",
      "_________________________________________________________________\n",
      "dense_4 (Dense)              (None, 100)               10100     \n",
      "_________________________________________________________________\n",
      "dense_5 (Dense)              (None, 100)               10100     \n",
      "_________________________________________________________________\n",
      "dense_6 (Dense)              (None, 100)               10100     \n",
      "_________________________________________________________________\n",
      "dense_7 (Dense)              (None, 100)               10100     \n",
      "_________________________________________________________________\n",
      "dense_8 (Dense)              (None, 100)               10100     \n",
      "_________________________________________________________________\n",
      "dense_9 (Dense)              (None, 100)               10100     \n",
      "_________________________________________________________________\n",
      "dense_10 (Dense)             (None, 100)               10100     \n",
      "_________________________________________________________________\n",
      "dense_11 (Dense)             (None, 100)               10100     \n",
      "_________________________________________________________________\n",
      "dense_12 (Dense)             (None, 100)               10100     \n",
      "_________________________________________________________________\n",
      "dense_13 (Dense)             (None, 100)               10100     \n",
      "_________________________________________________________________\n",
      "dense_14 (Dense)             (None, 100)               10100     \n",
      "_________________________________________________________________\n",
      "dense_15 (Dense)             (None, 100)               10100     \n",
      "_________________________________________________________________\n",
      "dense_16 (Dense)             (None, 100)               10100     \n",
      "_________________________________________________________________\n",
      "dense_17 (Dense)             (None, 100)               10100     \n",
      "_________________________________________________________________\n",
      "dense_18 (Dense)             (None, 100)               10100     \n",
      "_________________________________________________________________\n",
      "dense_19 (Dense)             (None, 100)               10100     \n",
      "_________________________________________________________________\n",
      "alpha_dropout (AlphaDropout) (None, 100)               0         \n",
      "_________________________________________________________________\n",
      "dense_20 (Dense)             (None, 10)                1010      \n",
      "=================================================================\n",
      "Total params: 271,410\n",
      "Trainable params: 271,410\n",
      "Non-trainable params: 0\n",
      "_________________________________________________________________\n"
     ]
    }
   ],
   "source": [
    "model.summary()"
   ]
  },
  {
   "cell_type": "code",
   "execution_count": 10,
   "id": "223b5dca",
   "metadata": {},
   "outputs": [],
   "source": [
    "#关于全连接层参数量的解释，第一个全连接层为例\n",
    "#[None, 784]* W +b =[None, 300] W.shape=[784, 300], b=[300]\n",
    "# 784*300 + 300 = 235500"
   ]
  },
  {
   "cell_type": "code",
   "execution_count": 11,
   "id": "ce006f43",
   "metadata": {},
   "outputs": [
    {
     "data": {
      "text/plain": [
       "(55000, 784)"
      ]
     },
     "execution_count": 11,
     "metadata": {},
     "output_type": "execute_result"
    }
   ],
   "source": [
    "X_train.shape"
   ]
  },
  {
   "cell_type": "code",
   "execution_count": 12,
   "id": "5bbf260c",
   "metadata": {
    "pycharm": {
     "is_executing": true
    }
   },
   "outputs": [
    {
     "name": "stdout",
     "output_type": "stream",
     "text": [
      "Epoch 1/5\n",
      "WARNING:tensorflow:Model was constructed with shape (None, 28, 28) for input KerasTensor(type_spec=TensorSpec(shape=(None, 28, 28), dtype=tf.float32, name='flatten_input'), name='flatten_input', description=\"created by layer 'flatten_input'\"), but it was called on an input with incompatible shape (None, 784).\n"
     ]
    },
    {
     "name": "stderr",
     "output_type": "stream",
     "text": [
      "2021-07-25 17:20:21.925589: I tensorflow/compiler/mlir/mlir_graph_optimization_pass.cc:176] None of the MLIR Optimization Passes are enabled (registered 2)\n"
     ]
    },
    {
     "name": "stdout",
     "output_type": "stream",
     "text": [
      "WARNING:tensorflow:Model was constructed with shape (None, 28, 28) for input KerasTensor(type_spec=TensorSpec(shape=(None, 28, 28), dtype=tf.float32, name='flatten_input'), name='flatten_input', description=\"created by layer 'flatten_input'\"), but it was called on an input with incompatible shape (None, 784).\n",
      "  21/1719 [..............................] - ETA: 20s - loss: 2.7995 - accuracy: 0.1116"
     ]
    },
    {
     "name": "stderr",
     "output_type": "stream",
     "text": [
      "2021-07-25 17:20:24.136416: I tensorflow/core/profiler/lib/profiler_session.cc:126] Profiler session initializing.\n",
      "2021-07-25 17:20:24.136440: I tensorflow/core/profiler/lib/profiler_session.cc:141] Profiler session started.\n",
      "2021-07-25 17:20:24.145970: I tensorflow/core/profiler/lib/profiler_session.cc:66] Profiler session collecting data.\n",
      "2021-07-25 17:20:24.149929: I tensorflow/core/profiler/lib/profiler_session.cc:159] Profiler session tear down.\n",
      "2021-07-25 17:20:24.154997: I tensorflow/core/profiler/rpc/client/save_profile.cc:137] Creating directory: ./dnn-dropout-callbacks/train/plugins/profile/2021_07_25_17_20_24\n",
      "2021-07-25 17:20:24.158167: I tensorflow/core/profiler/rpc/client/save_profile.cc:143] Dumped gzipped tool data for trace.json.gz to ./dnn-dropout-callbacks/train/plugins/profile/2021_07_25_17_20_24/simodeMacBook-Pro.local.trace.json.gz\n",
      "2021-07-25 17:20:24.167458: I tensorflow/core/profiler/rpc/client/save_profile.cc:137] Creating directory: ./dnn-dropout-callbacks/train/plugins/profile/2021_07_25_17_20_24\n",
      "2021-07-25 17:20:24.168079: I tensorflow/core/profiler/rpc/client/save_profile.cc:143] Dumped gzipped tool data for memory_profile.json.gz to ./dnn-dropout-callbacks/train/plugins/profile/2021_07_25_17_20_24/simodeMacBook-Pro.local.memory_profile.json.gz\n",
      "2021-07-25 17:20:24.169512: I tensorflow/core/profiler/rpc/client/capture_profile.cc:251] Creating directory: ./dnn-dropout-callbacks/train/plugins/profile/2021_07_25_17_20_24Dumped tool data for xplane.pb to ./dnn-dropout-callbacks/train/plugins/profile/2021_07_25_17_20_24/simodeMacBook-Pro.local.xplane.pb\n",
      "Dumped tool data for overview_page.pb to ./dnn-dropout-callbacks/train/plugins/profile/2021_07_25_17_20_24/simodeMacBook-Pro.local.overview_page.pb\n",
      "Dumped tool data for input_pipeline.pb to ./dnn-dropout-callbacks/train/plugins/profile/2021_07_25_17_20_24/simodeMacBook-Pro.local.input_pipeline.pb\n",
      "Dumped tool data for tensorflow_stats.pb to ./dnn-dropout-callbacks/train/plugins/profile/2021_07_25_17_20_24/simodeMacBook-Pro.local.tensorflow_stats.pb\n",
      "Dumped tool data for kernel_stats.pb to ./dnn-dropout-callbacks/train/plugins/profile/2021_07_25_17_20_24/simodeMacBook-Pro.local.kernel_stats.pb\n",
      "\n"
     ]
    },
    {
     "name": "stdout",
     "output_type": "stream",
     "text": [
      "1716/1719 [============================>.] - ETA: 0s - loss: 1.3939 - accuracy: 0.4956WARNING:tensorflow:Model was constructed with shape (None, 28, 28) for input KerasTensor(type_spec=TensorSpec(shape=(None, 28, 28), dtype=tf.float32, name='flatten_input'), name='flatten_input', description=\"created by layer 'flatten_input'\"), but it was called on an input with incompatible shape (None, 784).\n",
      "1719/1719 [==============================] - 14s 7ms/step - loss: 1.3931 - accuracy: 0.4958 - val_loss: 0.8222 - val_accuracy: 0.7206\n",
      "Epoch 2/5\n",
      "1719/1719 [==============================] - 10s 6ms/step - loss: 0.7310 - accuracy: 0.7069 - val_loss: 0.8473 - val_accuracy: 0.7472\n",
      "Epoch 3/5\n",
      "1719/1719 [==============================] - 11s 6ms/step - loss: 0.6304 - accuracy: 0.7515 - val_loss: 0.6151 - val_accuracy: 0.8074\n",
      "Epoch 4/5\n",
      "1719/1719 [==============================] - 9s 6ms/step - loss: 0.5592 - accuracy: 0.7954 - val_loss: 0.8650 - val_accuracy: 0.8088\n",
      "Epoch 5/5\n",
      "1719/1719 [==============================] - 10s 6ms/step - loss: 0.5208 - accuracy: 0.8129 - val_loss: 0.6137 - val_accuracy: 0.8328\n"
     ]
    }
   ],
   "source": [
    "history = model.fit(X_train, y_train, epochs=5,\n",
    "         validation_data=(X_valid, y_valid),\n",
    "                   callbacks=callbacks)"
   ]
  },
  {
   "cell_type": "code",
   "execution_count": 13,
   "id": "ea7e1231",
   "metadata": {
    "pycharm": {
     "is_executing": true
    }
   },
   "outputs": [
    {
     "data": {
      "text/plain": [
       "{'loss': [1.3930587768554688,\n",
       "  0.7309911847114563,\n",
       "  0.6304386258125305,\n",
       "  0.5591794848442078,\n",
       "  0.5207725763320923],\n",
       " 'accuracy': [0.4957636296749115,\n",
       "  0.7068727016448975,\n",
       "  0.7515454292297363,\n",
       "  0.7954182028770447,\n",
       "  0.8128727078437805],\n",
       " 'val_loss': [0.822152316570282,\n",
       "  0.8473426699638367,\n",
       "  0.6150920987129211,\n",
       "  0.8650214076042175,\n",
       "  0.6137018799781799],\n",
       " 'val_accuracy': [0.7206000089645386,\n",
       "  0.7472000122070312,\n",
       "  0.8073999881744385,\n",
       "  0.8087999820709229,\n",
       "  0.8327999711036682]}"
      ]
     },
     "execution_count": 13,
     "metadata": {},
     "output_type": "execute_result"
    }
   ],
   "source": [
    "history.history"
   ]
  },
  {
   "cell_type": "code",
   "execution_count": 14,
   "id": "1b8adf19",
   "metadata": {
    "pycharm": {
     "is_executing": true
    }
   },
   "outputs": [
    {
     "data": {
      "image/png": "[encoded data removed]",
      "text/plain": [
       "<Figure size 576x360 with 1 Axes>"
      ]
     },
     "metadata": {
      "needs_background": "light"
     },
     "output_type": "display_data"
    }
   ],
   "source": [
    "def plot_learning_curves(history):\n",
    "    pd.DataFrame(history.history).plot(figsize=(8,5))\n",
    "    plt.grid(True)\n",
    "    plt.gca().set_ylim(0,1)\n",
    "    plt.show()\n",
    "plot_learning_curves(history)"
   ]
  },
  {
   "cell_type": "code",
   "execution_count": 16,
   "id": "c5ae35b3",
   "metadata": {},
   "outputs": [
    {
     "name": "stdout",
     "output_type": "stream",
     "text": [
      "313/313 [==============================] - 1s 4ms/step - loss: 0.6623 - accuracy: 0.8120: 0s - loss: 0.6669 - accura\n"
     ]
    },
    {
     "data": {
      "text/plain": [
       "[0.6623190641403198, 0.8119999766349792]"
      ]
     },
     "execution_count": 16,
     "metadata": {},
     "output_type": "execute_result"
    }
   ],
   "source": [
    "model.evaluate(X_test,y_test)"
   ]
  }
 ],
 "metadata": {
  "kernelspec": {
   "display_name": "Python 3 (ipykernel)",
   "language": "python",
   "name": "python3"
  },
  "language_info": {
   "codemirror_mode": {
    "name": "ipython",
    "version": 3
   },
   "file_extension": ".py",
   "mimetype": "text/x-python",
   "name": "python",
   "nbconvert_exporter": "python",
   "pygments_lexer": "ipython3",
   "version": "3.8.5"
  }
 },
 "nbformat": 4,
 "nbformat_minor": 5
}
