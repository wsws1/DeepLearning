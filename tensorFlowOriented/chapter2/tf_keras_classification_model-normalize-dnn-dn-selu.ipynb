{
 "cells": [
  {
   "cell_type": "markdown",
   "id": "a651492f",
   "metadata": {},
   "source": [
    "## DNN 与 selu 激活函数"
   ]
  },
  {
   "cell_type": "code",
   "execution_count": 1,
   "id": "3c1c039a",
   "metadata": {},
   "outputs": [],
   "source": [
    "import matplotlib as mpl\n",
    "import matplotlib.pyplot as plt\n",
    "import numpy as np\n",
    "import sklearn\n",
    "import pandas as pd\n",
    "import os,sys,time\n",
    "import tensorflow as tf\n",
    "from tensorflow import keras"
   ]
  },
  {
   "cell_type": "code",
   "execution_count": 2,
   "id": "560bfca4",
   "metadata": {},
   "outputs": [],
   "source": [
    "fashion_mnist = keras.datasets.fashion_mnist\n",
    "(X_train, y_train),(X_test, y_test) = fashion_mnist.load_data()\n",
    "X_train = X_train.reshape(X_train.shape[0],-1)\n",
    "X_test = X_test.reshape(X_test.shape[0],-1)\n",
    "X_valid, X_train = X_train[:5000],X_train[5000:]\n",
    "y_valid, y_train = y_train[:5000],y_train[5000:]"
   ]
  },
  {
   "cell_type": "code",
   "execution_count": 3,
   "id": "52afb17a",
   "metadata": {},
   "outputs": [
    {
     "data": {
      "text/plain": [
       "StandardScaler()"
      ]
     },
     "execution_count": 3,
     "metadata": {},
     "output_type": "execute_result"
    }
   ],
   "source": [
    "# x = (x - u) / std\n",
    "from sklearn.preprocessing import StandardScaler\n",
    "std_scaler = StandardScaler()\n",
    "std_scaler.fit(X_train.astype(np.float32))"
   ]
  },
  {
   "cell_type": "code",
   "execution_count": 4,
   "id": "e72f5da9",
   "metadata": {},
   "outputs": [],
   "source": [
    "# X_train_std = std_scaler.transform(X_train.astype(np.float32)).reshape(X_train.shape[0],28,28)\n",
    "# X_valid_std = std_scaler.transform(X_valid.astype(np.float32)).reshape(X_valid.shape[0],28,28)\n",
    "# X_test_std = std_scaler.transform(X_test.astype(np.float32)).reshape(X_test.shape[0],28,28)"
   ]
  },
  {
   "cell_type": "code",
   "execution_count": 5,
   "id": "b50c2d34",
   "metadata": {},
   "outputs": [
    {
     "name": "stderr",
     "output_type": "stream",
     "text": [
      "2021-07-25 17:10:49.668949: I tensorflow/core/platform/cpu_feature_guard.cc:142] This TensorFlow binary is optimized with oneAPI Deep Neural Network Library (oneDNN) to use the following CPU instructions in performance-critical operations:  AVX2 FMA\n",
      "To enable them in other operations, rebuild TensorFlow with the appropriate compiler flags.\n"
     ]
    }
   ],
   "source": [
    "# 使用sequential\n",
    "model = keras.models.Sequential()\n",
    "model.add(keras.layers.Flatten(input_shape=[28,28]))\n",
    "for _ in range(20):\n",
    "    model.add(keras.layers.Dense(100,activation='selu'))\n",
    "model.add(keras.layers.Dense(10,activation='softmax'))\n",
    "\n",
    "model.compile(loss='sparse_categorical_crossentropy',\n",
    "             optimizer='sgd',\n",
    "             metrics=['accuracy'])"
   ]
  },
  {
   "cell_type": "code",
   "execution_count": 6,
   "id": "d282e7e6",
   "metadata": {},
   "outputs": [],
   "source": [
    "tf.keras.optimizers.Optimizer?"
   ]
  },
  {
   "cell_type": "code",
   "execution_count": 7,
   "id": "2bc1df37",
   "metadata": {},
   "outputs": [
    {
     "name": "stderr",
     "output_type": "stream",
     "text": [
      "2021-07-25 17:10:51.324093: I tensorflow/core/profiler/lib/profiler_session.cc:126] Profiler session initializing.\n",
      "2021-07-25 17:10:51.324279: I tensorflow/core/profiler/lib/profiler_session.cc:141] Profiler session started.\n",
      "2021-07-25 17:10:51.325190: I tensorflow/core/profiler/lib/profiler_session.cc:159] Profiler session tear down.\n"
     ]
    }
   ],
   "source": [
    "logdir='./dnn-selu-callbacks'\n",
    "if not os.path.exists(logdir):\n",
    "    os.mkdir(logdir)\n",
    "output_model_file = os.path.join(logdir,\"fashion_minist_model.h5\")\n",
    "callbacks = [\n",
    "    keras.callbacks.TensorBoard(logdir),\n",
    "    keras.callbacks.ModelCheckpoint(output_model_file,\n",
    "                                   save_best_only=True),\n",
    "    keras.callbacks.EarlyStopping(patience=5,min_delta=1e-3)\n",
    "]"
   ]
  },
  {
   "cell_type": "code",
   "execution_count": 8,
   "id": "3e4a16f6",
   "metadata": {},
   "outputs": [
    {
     "data": {
      "text/plain": [
       "[<tensorflow.python.keras.layers.core.Flatten at 0x14f6d73a0>,\n",
       " <tensorflow.python.keras.layers.core.Dense at 0x14f6d7430>,\n",
       " <tensorflow.python.keras.layers.normalization_v2.BatchNormalization at 0x14f6fde80>,\n",
       " <tensorflow.python.keras.layers.core.Dense at 0x14f773a60>,\n",
       " <tensorflow.python.keras.layers.normalization_v2.BatchNormalization at 0x14f7c9640>,\n",
       " <tensorflow.python.keras.layers.core.Dense at 0x14f84d760>,\n",
       " <tensorflow.python.keras.layers.normalization_v2.BatchNormalization at 0x14f8413a0>,\n",
       " <tensorflow.python.keras.layers.core.Dense at 0x14f848220>,\n",
       " <tensorflow.python.keras.layers.normalization_v2.BatchNormalization at 0x14f861070>,\n",
       " <tensorflow.python.keras.layers.core.Dense at 0x14f848610>,\n",
       " <tensorflow.python.keras.layers.normalization_v2.BatchNormalization at 0x14f86b160>,\n",
       " <tensorflow.python.keras.layers.core.Dense at 0x14f86f850>,\n",
       " <tensorflow.python.keras.layers.normalization_v2.BatchNormalization at 0x14f86b1f0>,\n",
       " <tensorflow.python.keras.layers.core.Dense at 0x14f87b490>,\n",
       " <tensorflow.python.keras.layers.normalization_v2.BatchNormalization at 0x14f87b790>,\n",
       " <tensorflow.python.keras.layers.core.Dense at 0x14f883b50>,\n",
       " <tensorflow.python.keras.layers.normalization_v2.BatchNormalization at 0x14f86b880>,\n",
       " <tensorflow.python.keras.layers.core.Dense at 0x14f8906a0>,\n",
       " <tensorflow.python.keras.layers.normalization_v2.BatchNormalization at 0x14f89a190>,\n",
       " <tensorflow.python.keras.layers.core.Dense at 0x14f89a700>,\n",
       " <tensorflow.python.keras.layers.normalization_v2.BatchNormalization at 0x14f8a1520>,\n",
       " <tensorflow.python.keras.layers.core.Dense at 0x14f8a3970>,\n",
       " <tensorflow.python.keras.layers.normalization_v2.BatchNormalization at 0x14f8a1a60>,\n",
       " <tensorflow.python.keras.layers.core.Dense at 0x14f8b01c0>,\n",
       " <tensorflow.python.keras.layers.normalization_v2.BatchNormalization at 0x14f8b08b0>,\n",
       " <tensorflow.python.keras.layers.core.Dense at 0x14f89ab50>,\n",
       " <tensorflow.python.keras.layers.normalization_v2.BatchNormalization at 0x14f8786d0>,\n",
       " <tensorflow.python.keras.layers.core.Dense at 0x14f89a250>,\n",
       " <tensorflow.python.keras.layers.normalization_v2.BatchNormalization at 0x14f8569d0>,\n",
       " <tensorflow.python.keras.layers.core.Dense at 0x14f8a37f0>,\n",
       " <tensorflow.python.keras.layers.normalization_v2.BatchNormalization at 0x14f84d520>,\n",
       " <tensorflow.python.keras.layers.core.Dense at 0x14f89a400>,\n",
       " <tensorflow.python.keras.layers.normalization_v2.BatchNormalization at 0x14f855760>,\n",
       " <tensorflow.python.keras.layers.core.Dense at 0x14f8b6c40>,\n",
       " <tensorflow.python.keras.layers.normalization_v2.BatchNormalization at 0x14f8bb5b0>,\n",
       " <tensorflow.python.keras.layers.core.Dense at 0x14f8c2f40>,\n",
       " <tensorflow.python.keras.layers.normalization_v2.BatchNormalization at 0x14f8c2be0>,\n",
       " <tensorflow.python.keras.layers.core.Dense at 0x14f8cbd00>,\n",
       " <tensorflow.python.keras.layers.normalization_v2.BatchNormalization at 0x14f8cf9d0>,\n",
       " <tensorflow.python.keras.layers.core.Dense at 0x14f8cfdc0>,\n",
       " <tensorflow.python.keras.layers.normalization_v2.BatchNormalization at 0x14f8dc250>,\n",
       " <tensorflow.python.keras.layers.core.Dense at 0x14f6fdb50>]"
      ]
     },
     "execution_count": 8,
     "metadata": {},
     "output_type": "execute_result"
    }
   ],
   "source": [
    "model.layers"
   ]
  },
  {
   "cell_type": "code",
   "execution_count": 9,
   "id": "b7496894",
   "metadata": {},
   "outputs": [
    {
     "name": "stdout",
     "output_type": "stream",
     "text": [
      "Model: \"sequential\"\n",
      "_________________________________________________________________\n",
      "Layer (type)                 Output Shape              Param #   \n",
      "=================================================================\n",
      "flatten (Flatten)            (None, 784)               0         \n",
      "_________________________________________________________________\n",
      "dense (Dense)                (None, 100)               78500     \n",
      "_________________________________________________________________\n",
      "batch_normalization (BatchNo (None, 100)               400       \n",
      "_________________________________________________________________\n",
      "dense_1 (Dense)              (None, 100)               10100     \n",
      "_________________________________________________________________\n",
      "batch_normalization_1 (Batch (None, 100)               400       \n",
      "_________________________________________________________________\n",
      "dense_2 (Dense)              (None, 100)               10100     \n",
      "_________________________________________________________________\n",
      "batch_normalization_2 (Batch (None, 100)               400       \n",
      "_________________________________________________________________\n",
      "dense_3 (Dense)              (None, 100)               10100     \n",
      "_________________________________________________________________\n",
      "batch_normalization_3 (Batch (None, 100)               400       \n",
      "_________________________________________________________________\n",
      "dense_4 (Dense)              (None, 100)               10100     \n",
      "_________________________________________________________________\n",
      "batch_normalization_4 (Batch (None, 100)               400       \n",
      "_________________________________________________________________\n",
      "dense_5 (Dense)              (None, 100)               10100     \n",
      "_________________________________________________________________\n",
      "batch_normalization_5 (Batch (None, 100)               400       \n",
      "_________________________________________________________________\n",
      "dense_6 (Dense)              (None, 100)               10100     \n",
      "_________________________________________________________________\n",
      "batch_normalization_6 (Batch (None, 100)               400       \n",
      "_________________________________________________________________\n",
      "dense_7 (Dense)              (None, 100)               10100     \n",
      "_________________________________________________________________\n",
      "batch_normalization_7 (Batch (None, 100)               400       \n",
      "_________________________________________________________________\n",
      "dense_8 (Dense)              (None, 100)               10100     \n",
      "_________________________________________________________________\n",
      "batch_normalization_8 (Batch (None, 100)               400       \n",
      "_________________________________________________________________\n",
      "dense_9 (Dense)              (None, 100)               10100     \n",
      "_________________________________________________________________\n",
      "batch_normalization_9 (Batch (None, 100)               400       \n",
      "_________________________________________________________________\n",
      "dense_10 (Dense)             (None, 100)               10100     \n",
      "_________________________________________________________________\n",
      "batch_normalization_10 (Batc (None, 100)               400       \n",
      "_________________________________________________________________\n",
      "dense_11 (Dense)             (None, 100)               10100     \n",
      "_________________________________________________________________\n",
      "batch_normalization_11 (Batc (None, 100)               400       \n",
      "_________________________________________________________________\n",
      "dense_12 (Dense)             (None, 100)               10100     \n",
      "_________________________________________________________________\n",
      "batch_normalization_12 (Batc (None, 100)               400       \n",
      "_________________________________________________________________\n",
      "dense_13 (Dense)             (None, 100)               10100     \n",
      "_________________________________________________________________\n",
      "batch_normalization_13 (Batc (None, 100)               400       \n",
      "_________________________________________________________________\n",
      "dense_14 (Dense)             (None, 100)               10100     \n",
      "_________________________________________________________________\n",
      "batch_normalization_14 (Batc (None, 100)               400       \n",
      "_________________________________________________________________\n",
      "dense_15 (Dense)             (None, 100)               10100     \n",
      "_________________________________________________________________\n",
      "batch_normalization_15 (Batc (None, 100)               400       \n",
      "_________________________________________________________________\n",
      "dense_16 (Dense)             (None, 100)               10100     \n",
      "_________________________________________________________________\n",
      "batch_normalization_16 (Batc (None, 100)               400       \n",
      "_________________________________________________________________\n",
      "dense_17 (Dense)             (None, 100)               10100     \n",
      "_________________________________________________________________\n",
      "batch_normalization_17 (Batc (None, 100)               400       \n",
      "_________________________________________________________________\n",
      "dense_18 (Dense)             (None, 100)               10100     \n",
      "_________________________________________________________________\n",
      "batch_normalization_18 (Batc (None, 100)               400       \n",
      "_________________________________________________________________\n",
      "dense_19 (Dense)             (None, 100)               10100     \n",
      "_________________________________________________________________\n",
      "batch_normalization_19 (Batc (None, 100)               400       \n",
      "_________________________________________________________________\n",
      "dense_20 (Dense)             (None, 10)                1010      \n",
      "=================================================================\n",
      "Total params: 279,410\n",
      "Trainable params: 275,410\n",
      "Non-trainable params: 4,000\n",
      "_________________________________________________________________\n"
     ]
    }
   ],
   "source": [
    "model.summary()"
   ]
  },
  {
   "cell_type": "code",
   "execution_count": 10,
   "id": "223b5dca",
   "metadata": {},
   "outputs": [],
   "source": [
    "#关于全连接层参数量的解释，第一个全连接层为例\n",
    "#[None, 784]* W +b =[None, 300] W.shape=[784, 300], b=[300]\n",
    "# 784*300 + 300 = 235500"
   ]
  },
  {
   "cell_type": "code",
   "execution_count": 11,
   "id": "ce006f43",
   "metadata": {},
   "outputs": [
    {
     "data": {
      "text/plain": [
       "(55000, 784)"
      ]
     },
     "execution_count": 11,
     "metadata": {},
     "output_type": "execute_result"
    }
   ],
   "source": [
    "X_train.shape"
   ]
  },
  {
   "cell_type": "code",
   "execution_count": 12,
   "id": "5bbf260c",
   "metadata": {
    "pycharm": {
     "is_executing": true
    }
   },
   "outputs": [
    {
     "name": "stderr",
     "output_type": "stream",
     "text": [
      "2021-07-25 17:10:51.815898: I tensorflow/compiler/mlir/mlir_graph_optimization_pass.cc:176] None of the MLIR Optimization Passes are enabled (registered 2)\n"
     ]
    },
    {
     "name": "stdout",
     "output_type": "stream",
     "text": [
      "Epoch 1/5\n",
      "WARNING:tensorflow:Model was constructed with shape (None, 28, 28) for input KerasTensor(type_spec=TensorSpec(shape=(None, 28, 28), dtype=tf.float32, name='flatten_input'), name='flatten_input', description=\"created by layer 'flatten_input'\"), but it was called on an input with incompatible shape (None, 784).\n",
      "WARNING:tensorflow:Model was constructed with shape (None, 28, 28) for input KerasTensor(type_spec=TensorSpec(shape=(None, 28, 28), dtype=tf.float32, name='flatten_input'), name='flatten_input', description=\"created by layer 'flatten_input'\"), but it was called on an input with incompatible shape (None, 784).\n",
      "   3/1719 [..............................] - ETA: 6:38 - loss: 2.5336 - accuracy: 0.1771 "
     ]
    },
    {
     "name": "stderr",
     "output_type": "stream",
     "text": [
      "2021-07-25 17:11:03.865005: I tensorflow/core/profiler/lib/profiler_session.cc:126] Profiler session initializing.\n",
      "2021-07-25 17:11:03.865042: I tensorflow/core/profiler/lib/profiler_session.cc:141] Profiler session started.\n",
      "2021-07-25 17:11:03.885956: I tensorflow/core/profiler/lib/profiler_session.cc:66] Profiler session collecting data.\n",
      "2021-07-25 17:11:03.908734: I tensorflow/core/profiler/lib/profiler_session.cc:159] Profiler session tear down.\n",
      "2021-07-25 17:11:03.930073: I tensorflow/core/profiler/rpc/client/save_profile.cc:137] Creating directory: ./dnn-selu-callbacks/train/plugins/profile/2021_07_25_17_11_03\n",
      "2021-07-25 17:11:03.937436: I tensorflow/core/profiler/rpc/client/save_profile.cc:143] Dumped gzipped tool data for trace.json.gz to ./dnn-selu-callbacks/train/plugins/profile/2021_07_25_17_11_03/simodeMacBook-Pro.local.trace.json.gz\n",
      "2021-07-25 17:11:04.025027: I tensorflow/core/profiler/rpc/client/save_profile.cc:137] Creating directory: ./dnn-selu-callbacks/train/plugins/profile/2021_07_25_17_11_03\n",
      "2021-07-25 17:11:04.025456: I tensorflow/core/profiler/rpc/client/save_profile.cc:143] Dumped gzipped tool data for memory_profile.json.gz to ./dnn-selu-callbacks/train/plugins/profile/2021_07_25_17_11_03/simodeMacBook-Pro.local.memory_profile.json.gz\n",
      "2021-07-25 17:11:04.029035: I tensorflow/core/profiler/rpc/client/capture_profile.cc:251] Creating directory: ./dnn-selu-callbacks/train/plugins/profile/2021_07_25_17_11_03Dumped tool data for xplane.pb to ./dnn-selu-callbacks/train/plugins/profile/2021_07_25_17_11_03/simodeMacBook-Pro.local.xplane.pb\n",
      "Dumped tool data for overview_page.pb to ./dnn-selu-callbacks/train/plugins/profile/2021_07_25_17_11_03/simodeMacBook-Pro.local.overview_page.pb\n",
      "Dumped tool data for input_pipeline.pb to ./dnn-selu-callbacks/train/plugins/profile/2021_07_25_17_11_03/simodeMacBook-Pro.local.input_pipeline.pb\n",
      "Dumped tool data for tensorflow_stats.pb to ./dnn-selu-callbacks/train/plugins/profile/2021_07_25_17_11_03/simodeMacBook-Pro.local.tensorflow_stats.pb\n",
      "Dumped tool data for kernel_stats.pb to ./dnn-selu-callbacks/train/plugins/profile/2021_07_25_17_11_03/simodeMacBook-Pro.local.kernel_stats.pb\n",
      "\n"
     ]
    },
    {
     "name": "stdout",
     "output_type": "stream",
     "text": [
      "1718/1719 [============================>.] - ETA: 0s - loss: 0.6675 - accuracy: 0.7657WARNING:tensorflow:Model was constructed with shape (None, 28, 28) for input KerasTensor(type_spec=TensorSpec(shape=(None, 28, 28), dtype=tf.float32, name='flatten_input'), name='flatten_input', description=\"created by layer 'flatten_input'\"), but it was called on an input with incompatible shape (None, 784).\n",
      "1719/1719 [==============================] - 36s 14ms/step - loss: 0.6674 - accuracy: 0.7657 - val_loss: 0.4287 - val_accuracy: 0.8504\n",
      "Epoch 2/5\n",
      "1719/1719 [==============================] - 26s 15ms/step - loss: 0.5041 - accuracy: 0.8213 - val_loss: 0.3916 - val_accuracy: 0.8586\n",
      "Epoch 3/5\n",
      "1719/1719 [==============================] - 26s 15ms/step - loss: 0.4634 - accuracy: 0.8346 - val_loss: 0.3884 - val_accuracy: 0.8606\n",
      "Epoch 4/5\n",
      "1719/1719 [==============================] - 29s 17ms/step - loss: 0.4268 - accuracy: 0.8468 - val_loss: 0.3490 - val_accuracy: 0.8728\n",
      "Epoch 5/5\n",
      "1719/1719 [==============================] - 27s 16ms/step - loss: 0.4036 - accuracy: 0.8543 - val_loss: 0.3502 - val_accuracy: 0.8700\n"
     ]
    }
   ],
   "source": [
    "history = model.fit(X_train, y_train, epochs=5,\n",
    "         validation_data=(X_valid, y_valid),\n",
    "                   callbacks=callbacks)"
   ]
  },
  {
   "cell_type": "code",
   "execution_count": 13,
   "id": "ea7e1231",
   "metadata": {
    "pycharm": {
     "is_executing": true
    }
   },
   "outputs": [
    {
     "data": {
      "text/plain": [
       "{'loss': [0.6673904061317444,\n",
       "  0.5040763020515442,\n",
       "  0.46341270208358765,\n",
       "  0.42683300375938416,\n",
       "  0.4035903811454773],\n",
       " 'accuracy': [0.7656727433204651,\n",
       "  0.821254551410675,\n",
       "  0.8346182107925415,\n",
       "  0.8468363881111145,\n",
       "  0.85430908203125],\n",
       " 'val_loss': [0.4286717176437378,\n",
       "  0.39163869619369507,\n",
       "  0.38838401436805725,\n",
       "  0.34896382689476013,\n",
       "  0.3502413034439087],\n",
       " 'val_accuracy': [0.8503999710083008,\n",
       "  0.8586000204086304,\n",
       "  0.8605999946594238,\n",
       "  0.8727999925613403,\n",
       "  0.8700000047683716]}"
      ]
     },
     "execution_count": 13,
     "metadata": {},
     "output_type": "execute_result"
    }
   ],
   "source": [
    "history.history"
   ]
  },
  {
   "cell_type": "code",
   "execution_count": 16,
   "id": "1b8adf19",
   "metadata": {
    "pycharm": {
     "is_executing": true
    }
   },
   "outputs": [
    {
     "data": {
      "image/png": "[encoded data removed]",
      "text/plain": [
       "<Figure size 576x360 with 1 Axes>"
      ]
     },
     "metadata": {
      "needs_background": "light"
     },
     "output_type": "display_data"
    }
   ],
   "source": [
    "def plot_learning_curves(history):\n",
    "    pd.DataFrame(history.history).plot(figsize=(8,5))\n",
    "    plt.grid(True)\n",
    "    plt.gca().set_ylim(0,1)\n",
    "    plt.show()\n",
    "plot_learning_curves(history)"
   ]
  },
  {
   "cell_type": "code",
   "execution_count": 15,
   "id": "c5ae35b3",
   "metadata": {},
   "outputs": [
    {
     "ename": "NameError",
     "evalue": "name 'X_test_std' is not defined",
     "output_type": "error",
     "traceback": [
      "\u001b[0;31m---------------------------------------------------------------------------\u001b[0m",
      "\u001b[0;31mNameError\u001b[0m                                 Traceback (most recent call last)",
      "\u001b[0;32m/var/folders/hv/v_yv9yqn3710j4mt30fqjsy00000gn/T/ipykernel_38220/2097128817.py\u001b[0m in \u001b[0;36m<module>\u001b[0;34m\u001b[0m\n\u001b[0;32m----> 1\u001b[0;31m \u001b[0mmodel\u001b[0m\u001b[0;34m.\u001b[0m\u001b[0mevaluate\u001b[0m\u001b[0;34m(\u001b[0m\u001b[0mX_test_std\u001b[0m\u001b[0;34m,\u001b[0m\u001b[0my_test\u001b[0m\u001b[0;34m)\u001b[0m\u001b[0;34m\u001b[0m\u001b[0;34m\u001b[0m\u001b[0m\n\u001b[0m",
      "\u001b[0;31mNameError\u001b[0m: name 'X_test_std' is not defined"
     ]
    }
   ],
   "source": [
    "model.evaluate(X_test_std,y_test)"
   ]
  }
 ],
 "metadata": {
  "kernelspec": {
   "display_name": "Python 3 (ipykernel)",
   "language": "python",
   "name": "python3"
  },
  "language_info": {
   "codemirror_mode": {
    "name": "ipython",
    "version": 3
   },
   "file_extension": ".py",
   "mimetype": "text/x-python",
   "name": "python",
   "nbconvert_exporter": "python",
   "pygments_lexer": "ipython3",
   "version": "3.8.5"
  }
 },
 "nbformat": 4,
 "nbformat_minor": 5
}
