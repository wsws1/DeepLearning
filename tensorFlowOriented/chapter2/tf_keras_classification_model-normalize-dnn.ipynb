{
 "cells": [
  {
   "cell_type": "markdown",
   "id": "a651492f",
   "metadata": {},
   "source": [
    "## DNN 深度神经网络"
   ]
  },
  {
   "cell_type": "code",
   "execution_count": 1,
   "id": "3c1c039a",
   "metadata": {},
   "outputs": [],
   "source": [
    "import matplotlib as mpl\n",
    "import matplotlib.pyplot as plt\n",
    "import numpy as np\n",
    "import sklearn\n",
    "import pandas as pd\n",
    "import os,sys,time\n",
    "import tensorflow as tf\n",
    "from tensorflow import keras"
   ]
  },
  {
   "cell_type": "code",
   "execution_count": 2,
   "id": "560bfca4",
   "metadata": {},
   "outputs": [],
   "source": [
    "fashion_mnist = keras.datasets.fashion_mnist\n",
    "(X_train, y_train),(X_test, y_test) = fashion_mnist.load_data()\n",
    "X_train = X_train.reshape(X_train.shape[0],-1)\n",
    "X_test = X_test.reshape(X_test.shape[0],-1)\n",
    "X_valid, X_train = X_train[:5000],X_train[5000:]\n",
    "y_valid, y_train = y_train[:5000],y_train[5000:]"
   ]
  },
  {
   "cell_type": "code",
   "execution_count": 3,
   "id": "52afb17a",
   "metadata": {},
   "outputs": [
    {
     "data": {
      "text/plain": [
       "StandardScaler()"
      ]
     },
     "execution_count": 3,
     "metadata": {},
     "output_type": "execute_result"
    }
   ],
   "source": [
    "# x = (x - u) / std\n",
    "from sklearn.preprocessing import StandardScaler\n",
    "std_scaler = StandardScaler()\n",
    "std_scaler.fit(X_train.astype(np.float32))"
   ]
  },
  {
   "cell_type": "code",
   "execution_count": 4,
   "id": "e72f5da9",
   "metadata": {},
   "outputs": [],
   "source": [
    "X_train_std = std_scaler.transform(X_train.astype(np.float32)).reshape(X_train.shape[0],28,28)\n",
    "X_valid_std = std_scaler.transform(X_valid.astype(np.float32)).reshape(X_valid.shape[0],28,28)\n",
    "X_test_std = std_scaler.transform(X_test.astype(np.float32)).reshape(X_test.shape[0],28,28)"
   ]
  },
  {
   "cell_type": "code",
   "execution_count": 5,
   "id": "b50c2d34",
   "metadata": {},
   "outputs": [
    {
     "name": "stderr",
     "output_type": "stream",
     "text": [
      "2021-07-25 16:58:01.484095: I tensorflow/core/platform/cpu_feature_guard.cc:142] This TensorFlow binary is optimized with oneAPI Deep Neural Network Library (oneDNN) to use the following CPU instructions in performance-critical operations:  AVX2 FMA\n",
      "To enable them in other operations, rebuild TensorFlow with the appropriate compiler flags.\n"
     ]
    }
   ],
   "source": [
    "# 使用sequential\n",
    "model = keras.models.Sequential()\n",
    "model.add(keras.layers.Flatten(input_shape=[28,28]))\n",
    "for _ in range(20):\n",
    "    model.add(keras.layers.Dense(100,activation='relu'))\n",
    "model.add(keras.layers.Dense(10,activation='softmax'))\n",
    "\n",
    "model.compile(loss='sparse_categorical_crossentropy',\n",
    "             optimizer='sgd',\n",
    "             metrics=['accuracy'])"
   ]
  },
  {
   "cell_type": "code",
   "execution_count": 6,
   "id": "d282e7e6",
   "metadata": {},
   "outputs": [],
   "source": [
    "tf.keras.optimizers.Optimizer?"
   ]
  },
  {
   "cell_type": "code",
   "execution_count": 7,
   "id": "2bc1df37",
   "metadata": {},
   "outputs": [
    {
     "name": "stderr",
     "output_type": "stream",
     "text": [
      "2021-07-25 16:58:02.080669: I tensorflow/core/profiler/lib/profiler_session.cc:126] Profiler session initializing.\n",
      "2021-07-25 16:58:02.080716: I tensorflow/core/profiler/lib/profiler_session.cc:141] Profiler session started.\n",
      "2021-07-25 16:58:02.082230: I tensorflow/core/profiler/lib/profiler_session.cc:159] Profiler session tear down.\n"
     ]
    }
   ],
   "source": [
    "logdir='./dnn-callbacks'\n",
    "if not os.path.exists(logdir):\n",
    "    os.mkdir(logdir)\n",
    "output_model_file = os.path.join(logdir,\"fashion_minist_model.h5\")\n",
    "callbacks = [\n",
    "    keras.callbacks.TensorBoard(logdir),\n",
    "    keras.callbacks.ModelCheckpoint(output_model_file,\n",
    "                                   save_best_only=True),\n",
    "    keras.callbacks.EarlyStopping(patience=5,min_delta=1e-3)\n",
    "]"
   ]
  },
  {
   "cell_type": "code",
   "execution_count": 8,
   "id": "3e4a16f6",
   "metadata": {},
   "outputs": [
    {
     "data": {
      "text/plain": [
       "[<tensorflow.python.keras.layers.core.Flatten at 0x15b562c10>,\n",
       " <tensorflow.python.keras.layers.core.Dense at 0x15b562f40>,\n",
       " <tensorflow.python.keras.layers.core.Dense at 0x15d3c6e50>,\n",
       " <tensorflow.python.keras.layers.core.Dense at 0x15d44d5b0>,\n",
       " <tensorflow.python.keras.layers.core.Dense at 0x15d460b80>,\n",
       " <tensorflow.python.keras.layers.core.Dense at 0x15d44daf0>,\n",
       " <tensorflow.python.keras.layers.core.Dense at 0x15d4baf40>,\n",
       " <tensorflow.python.keras.layers.core.Dense at 0x15d4bff10>,\n",
       " <tensorflow.python.keras.layers.core.Dense at 0x15d4ba4f0>,\n",
       " <tensorflow.python.keras.layers.core.Dense at 0x15d4c8dc0>,\n",
       " <tensorflow.python.keras.layers.core.Dense at 0x15d4cdd00>,\n",
       " <tensorflow.python.keras.layers.core.Dense at 0x15d4c8a00>,\n",
       " <tensorflow.python.keras.layers.core.Dense at 0x15d4da100>,\n",
       " <tensorflow.python.keras.layers.core.Dense at 0x15d4e0040>,\n",
       " <tensorflow.python.keras.layers.core.Dense at 0x15d4dad90>,\n",
       " <tensorflow.python.keras.layers.core.Dense at 0x15d4e0fa0>,\n",
       " <tensorflow.python.keras.layers.core.Dense at 0x15d4e7880>,\n",
       " <tensorflow.python.keras.layers.core.Dense at 0x15d4ea7c0>,\n",
       " <tensorflow.python.keras.layers.core.Dense at 0x15d4e74c0>,\n",
       " <tensorflow.python.keras.layers.core.Dense at 0x15d4f32e0>,\n",
       " <tensorflow.python.keras.layers.core.Dense at 0x15d4f7220>,\n",
       " <tensorflow.python.keras.layers.core.Dense at 0x15d3c6580>]"
      ]
     },
     "execution_count": 8,
     "metadata": {},
     "output_type": "execute_result"
    }
   ],
   "source": [
    "model.layers"
   ]
  },
  {
   "cell_type": "code",
   "execution_count": 9,
   "id": "b7496894",
   "metadata": {},
   "outputs": [
    {
     "name": "stdout",
     "output_type": "stream",
     "text": [
      "Model: \"sequential\"\n",
      "_________________________________________________________________\n",
      "Layer (type)                 Output Shape              Param #   \n",
      "=================================================================\n",
      "flatten (Flatten)            (None, 784)               0         \n",
      "_________________________________________________________________\n",
      "dense (Dense)                (None, 100)               78500     \n",
      "_________________________________________________________________\n",
      "dense_1 (Dense)              (None, 100)               10100     \n",
      "_________________________________________________________________\n",
      "dense_2 (Dense)              (None, 100)               10100     \n",
      "_________________________________________________________________\n",
      "dense_3 (Dense)              (None, 100)               10100     \n",
      "_________________________________________________________________\n",
      "dense_4 (Dense)              (None, 100)               10100     \n",
      "_________________________________________________________________\n",
      "dense_5 (Dense)              (None, 100)               10100     \n",
      "_________________________________________________________________\n",
      "dense_6 (Dense)              (None, 100)               10100     \n",
      "_________________________________________________________________\n",
      "dense_7 (Dense)              (None, 100)               10100     \n",
      "_________________________________________________________________\n",
      "dense_8 (Dense)              (None, 100)               10100     \n",
      "_________________________________________________________________\n",
      "dense_9 (Dense)              (None, 100)               10100     \n",
      "_________________________________________________________________\n",
      "dense_10 (Dense)             (None, 100)               10100     \n",
      "_________________________________________________________________\n",
      "dense_11 (Dense)             (None, 100)               10100     \n",
      "_________________________________________________________________\n",
      "dense_12 (Dense)             (None, 100)               10100     \n",
      "_________________________________________________________________\n",
      "dense_13 (Dense)             (None, 100)               10100     \n",
      "_________________________________________________________________\n",
      "dense_14 (Dense)             (None, 100)               10100     \n",
      "_________________________________________________________________\n",
      "dense_15 (Dense)             (None, 100)               10100     \n",
      "_________________________________________________________________\n",
      "dense_16 (Dense)             (None, 100)               10100     \n",
      "_________________________________________________________________\n",
      "dense_17 (Dense)             (None, 100)               10100     \n",
      "_________________________________________________________________\n",
      "dense_18 (Dense)             (None, 100)               10100     \n",
      "_________________________________________________________________\n",
      "dense_19 (Dense)             (None, 100)               10100     \n",
      "_________________________________________________________________\n",
      "dense_20 (Dense)             (None, 10)                1010      \n",
      "=================================================================\n",
      "Total params: 271,410\n",
      "Trainable params: 271,410\n",
      "Non-trainable params: 0\n",
      "_________________________________________________________________\n"
     ]
    }
   ],
   "source": [
    "model.summary()"
   ]
  },
  {
   "cell_type": "code",
   "execution_count": 10,
   "id": "223b5dca",
   "metadata": {},
   "outputs": [],
   "source": [
    "#关于全连接层参数量的解释，第一个全连接层为例\n",
    "#[None, 784]* W +b =[None, 300] W.shape=[784, 300], b=[300]\n",
    "# 784*300 + 300 = 235500"
   ]
  },
  {
   "cell_type": "code",
   "execution_count": 11,
   "id": "ce006f43",
   "metadata": {},
   "outputs": [
    {
     "data": {
      "text/plain": [
       "(55000, 784)"
      ]
     },
     "execution_count": 11,
     "metadata": {},
     "output_type": "execute_result"
    }
   ],
   "source": [
    "X_train.shape"
   ]
  },
  {
   "cell_type": "code",
   "execution_count": 12,
   "id": "5bbf260c",
   "metadata": {
    "pycharm": {
     "is_executing": true
    }
   },
   "outputs": [
    {
     "name": "stderr",
     "output_type": "stream",
     "text": [
      "2021-07-25 16:58:02.394010: I tensorflow/compiler/mlir/mlir_graph_optimization_pass.cc:176] None of the MLIR Optimization Passes are enabled (registered 2)\n"
     ]
    },
    {
     "name": "stdout",
     "output_type": "stream",
     "text": [
      "Epoch 1/5\n",
      "  24/1719 [..............................] - ETA: 18s - loss: 2.3025 - accuracy: 0.1055"
     ]
    },
    {
     "name": "stderr",
     "output_type": "stream",
     "text": [
      "2021-07-25 16:58:04.574331: I tensorflow/core/profiler/lib/profiler_session.cc:126] Profiler session initializing.\n",
      "2021-07-25 16:58:04.574904: I tensorflow/core/profiler/lib/profiler_session.cc:141] Profiler session started.\n",
      "2021-07-25 16:58:04.604574: I tensorflow/core/profiler/lib/profiler_session.cc:66] Profiler session collecting data.\n",
      "2021-07-25 16:58:04.613117: I tensorflow/core/profiler/lib/profiler_session.cc:159] Profiler session tear down.\n",
      "2021-07-25 16:58:04.621002: I tensorflow/core/profiler/rpc/client/save_profile.cc:137] Creating directory: ./dnn-callbacks/train/plugins/profile/2021_07_25_16_58_04\n",
      "2021-07-25 16:58:04.631388: I tensorflow/core/profiler/rpc/client/save_profile.cc:143] Dumped gzipped tool data for trace.json.gz to ./dnn-callbacks/train/plugins/profile/2021_07_25_16_58_04/simodeMacBook-Pro.local.trace.json.gz\n",
      "2021-07-25 16:58:04.642510: I tensorflow/core/profiler/rpc/client/save_profile.cc:137] Creating directory: ./dnn-callbacks/train/plugins/profile/2021_07_25_16_58_04\n",
      "2021-07-25 16:58:04.643024: I tensorflow/core/profiler/rpc/client/save_profile.cc:143] Dumped gzipped tool data for memory_profile.json.gz to ./dnn-callbacks/train/plugins/profile/2021_07_25_16_58_04/simodeMacBook-Pro.local.memory_profile.json.gz\n",
      "2021-07-25 16:58:04.644584: I tensorflow/core/profiler/rpc/client/capture_profile.cc:251] Creating directory: ./dnn-callbacks/train/plugins/profile/2021_07_25_16_58_04Dumped tool data for xplane.pb to ./dnn-callbacks/train/plugins/profile/2021_07_25_16_58_04/simodeMacBook-Pro.local.xplane.pb\n",
      "Dumped tool data for overview_page.pb to ./dnn-callbacks/train/plugins/profile/2021_07_25_16_58_04/simodeMacBook-Pro.local.overview_page.pb\n",
      "Dumped tool data for input_pipeline.pb to ./dnn-callbacks/train/plugins/profile/2021_07_25_16_58_04/simodeMacBook-Pro.local.input_pipeline.pb\n",
      "Dumped tool data for tensorflow_stats.pb to ./dnn-callbacks/train/plugins/profile/2021_07_25_16_58_04/simodeMacBook-Pro.local.tensorflow_stats.pb\n",
      "Dumped tool data for kernel_stats.pb to ./dnn-callbacks/train/plugins/profile/2021_07_25_16_58_04/simodeMacBook-Pro.local.kernel_stats.pb\n",
      "\n"
     ]
    },
    {
     "name": "stdout",
     "output_type": "stream",
     "text": [
      "1719/1719 [==============================] - 14s 7ms/step - loss: 2.2411 - accuracy: 0.2086 - val_loss: 1.6898 - val_accuracy: 0.2962\n",
      "Epoch 2/5\n",
      "1719/1719 [==============================] - 10s 6ms/step - loss: 0.8295 - accuracy: 0.6869 - val_loss: 0.5948 - val_accuracy: 0.7872\n",
      "Epoch 3/5\n",
      "1719/1719 [==============================] - 11s 6ms/step - loss: 0.5497 - accuracy: 0.7983 - val_loss: 0.6094 - val_accuracy: 0.7646\n",
      "Epoch 4/5\n",
      "1719/1719 [==============================] - 11s 6ms/step - loss: 0.4700 - accuracy: 0.8364 - val_loss: 0.4365 - val_accuracy: 0.8510\n",
      "Epoch 5/5\n",
      "1719/1719 [==============================] - 11s 6ms/step - loss: 0.4174 - accuracy: 0.8577 - val_loss: 0.4261 - val_accuracy: 0.8562\n"
     ]
    }
   ],
   "source": [
    "history = model.fit(X_train_std, y_train, epochs=5,\n",
    "         validation_data=(X_valid_std, y_valid),\n",
    "                   callbacks=callbacks)"
   ]
  },
  {
   "cell_type": "code",
   "execution_count": 13,
   "id": "ea7e1231",
   "metadata": {
    "pycharm": {
     "is_executing": true
    }
   },
   "outputs": [
    {
     "data": {
      "text/plain": [
       "{'loss': [2.2411410808563232,\n",
       "  0.8294935822486877,\n",
       "  0.5497009754180908,\n",
       "  0.47001853585243225,\n",
       "  0.4173925817012787],\n",
       " 'accuracy': [0.2086363583803177,\n",
       "  0.6869272589683533,\n",
       "  0.7983090877532959,\n",
       "  0.8363636136054993,\n",
       "  0.8576727509498596],\n",
       " 'val_loss': [1.6898159980773926,\n",
       "  0.5948403477668762,\n",
       "  0.6094024181365967,\n",
       "  0.43647301197052,\n",
       "  0.42610839009284973],\n",
       " 'val_accuracy': [0.2962000072002411,\n",
       "  0.7871999740600586,\n",
       "  0.7645999789237976,\n",
       "  0.8510000109672546,\n",
       "  0.8561999797821045]}"
      ]
     },
     "execution_count": 13,
     "metadata": {},
     "output_type": "execute_result"
    }
   ],
   "source": [
    "history.history"
   ]
  },
  {
   "cell_type": "code",
   "execution_count": 17,
   "id": "1b8adf19",
   "metadata": {
    "pycharm": {
     "is_executing": true
    }
   },
   "outputs": [
    {
     "data": {
      "image/png": "[encoded data removed]",
      "text/plain": [
       "<Figure size 576x360 with 1 Axes>"
      ]
     },
     "metadata": {
      "needs_background": "light"
     },
     "output_type": "display_data"
    }
   ],
   "source": [
    "def plot_learning_curves(history):\n",
    "    pd.DataFrame(history.history).plot(figsize=(8,5))\n",
    "    plt.grid(True)\n",
    "    plt.gca().set_ylim(0,2.5)\n",
    "    plt.show()\n",
    "plot_learning_curves(history)"
   ]
  },
  {
   "cell_type": "code",
   "execution_count": 15,
   "id": "c5ae35b3",
   "metadata": {},
   "outputs": [
    {
     "name": "stdout",
     "output_type": "stream",
     "text": [
      "313/313 [==============================] - 1s 3ms/step - loss: 0.4683 - accuracy: 0.8449: 0s - loss: 0\n"
     ]
    },
    {
     "data": {
      "text/plain": [
       "[0.468289852142334, 0.8449000120162964]"
      ]
     },
     "execution_count": 15,
     "metadata": {},
     "output_type": "execute_result"
    }
   ],
   "source": [
    "model.evaluate(X_test_std,y_test)"
   ]
  }
 ],
 "metadata": {
  "kernelspec": {
   "display_name": "Python 3 (ipykernel)",
   "language": "python",
   "name": "python3"
  },
  "language_info": {
   "codemirror_mode": {
    "name": "ipython",
    "version": 3
   },
   "file_extension": ".py",
   "mimetype": "text/x-python",
   "name": "python",
   "nbconvert_exporter": "python",
   "pygments_lexer": "ipython3",
   "version": "3.8.5"
  }
 },
 "nbformat": 4,
 "nbformat_minor": 5
}
