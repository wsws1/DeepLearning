{
 "cells": [
  {
   "cell_type": "markdown",
   "metadata": {},
   "source": [
    "## Wide&Deep模型的多输出"
   ]
  },
  {
   "cell_type": "code",
   "execution_count": 1,
   "metadata": {},
   "outputs": [
    {
     "name": "stdout",
     "output_type": "stream",
     "text": [
      "2.5.0\n",
      "sys.version_info(major=3, minor=8, micro=5, releaselevel='final', serial=0)\n",
      "matplotlib 3.4.2\n",
      "numpy 1.19.5\n",
      "pandas 1.3.0\n",
      "sklearn 0.24.2\n",
      "tensorflow 2.5.0\n",
      "tensorflow.keras 2.5.0\n"
     ]
    }
   ],
   "source": [
    "import matplotlib as mpl\n",
    "import matplotlib.pyplot as plt\n",
    "%matplotlib inline\n",
    "import numpy as np\n",
    "import sklearn\n",
    "import pandas as pd\n",
    "import os\n",
    "import sys\n",
    "import time\n",
    "import tensorflow as tf\n",
    "\n",
    "from tensorflow import keras\n",
    "\n",
    "print(tf.__version__)\n",
    "print(sys.version_info)\n",
    "for module in mpl, np, pd, sklearn, tf, keras:\n",
    "    print(module.__name__, module.__version__)"
   ]
  },
  {
   "cell_type": "code",
   "execution_count": 2,
   "metadata": {},
   "outputs": [
    {
     "name": "stdout",
     "output_type": "stream",
     "text": [
      ".. _california_housing_dataset:\n",
      "\n",
      "California Housing dataset\n",
      "--------------------------\n",
      "\n",
      "**Data Set Characteristics:**\n",
      "\n",
      "    :Number of Instances: 20640\n",
      "\n",
      "    :Number of Attributes: 8 numeric, predictive attributes and the target\n",
      "\n",
      "    :Attribute Information:\n",
      "        - MedInc        median income in block\n",
      "        - HouseAge      median house age in block\n",
      "        - AveRooms      average number of rooms\n",
      "        - AveBedrms     average number of bedrooms\n",
      "        - Population    block population\n",
      "        - AveOccup      average house occupancy\n",
      "        - Latitude      house block latitude\n",
      "        - Longitude     house block longitude\n",
      "\n",
      "    :Missing Attribute Values: None\n",
      "\n",
      "This dataset was obtained from the StatLib repository.\n",
      "http://lib.stat.cmu.edu/datasets/\n",
      "\n",
      "The target variable is the median house value for California districts.\n",
      "\n",
      "This dataset was derived from the 1990 U.S. census, using one row per census\n",
      "block group. A block group is the smallest geographical unit for which the U.S.\n",
      "Census Bureau publishes sample data (a block group typically has a population\n",
      "of 600 to 3,000 people).\n",
      "\n",
      "It can be downloaded/loaded using the\n",
      ":func:`sklearn.datasets.fetch_california_housing` function.\n",
      "\n",
      ".. topic:: References\n",
      "\n",
      "    - Pace, R. Kelley and Ronald Barry, Sparse Spatial Autoregressions,\n",
      "      Statistics and Probability Letters, 33 (1997) 291-297\n",
      "\n",
      "(20640, 8)\n",
      "(20640,)\n"
     ]
    }
   ],
   "source": [
    "from sklearn.datasets import fetch_california_housing\n",
    "\n",
    "housing = fetch_california_housing()\n",
    "print(housing.DESCR)\n",
    "print(housing.data.shape)\n",
    "print(housing.target.shape)"
   ]
  },
  {
   "cell_type": "code",
   "execution_count": 3,
   "metadata": {},
   "outputs": [
    {
     "name": "stdout",
     "output_type": "stream",
     "text": [
      "(11610, 8) (11610,)\n",
      "(3870, 8) (3870,)\n",
      "(5160, 8) (5160,)\n"
     ]
    }
   ],
   "source": [
    "from sklearn.model_selection import train_test_split\n",
    "\n",
    "x_train_all, x_test, y_train_all, y_test = train_test_split(\n",
    "    housing.data, housing.target, random_state = 7)\n",
    "x_train, x_valid, y_train, y_valid = train_test_split(\n",
    "    x_train_all, y_train_all, random_state = 11)\n",
    "print(x_train.shape, y_train.shape)\n",
    "print(x_valid.shape, y_valid.shape)\n",
    "print(x_test.shape, y_test.shape)\n"
   ]
  },
  {
   "cell_type": "code",
   "execution_count": 4,
   "metadata": {},
   "outputs": [],
   "source": [
    "from sklearn.preprocessing import StandardScaler\n",
    "\n",
    "scaler = StandardScaler()\n",
    "x_train_scaled = scaler.fit_transform(x_train)\n",
    "x_valid_scaled = scaler.transform(x_valid)\n",
    "x_test_scaled = scaler.transform(x_test)"
   ]
  },
  {
   "cell_type": "code",
   "execution_count": 5,
   "metadata": {},
   "outputs": [
    {
     "name": "stdout",
     "output_type": "stream",
     "text": [
      "Model: \"model\"\n",
      "__________________________________________________________________________________________________\n",
      "Layer (type)                    Output Shape         Param #     Connected to                     \n",
      "==================================================================================================\n",
      "input_2 (InputLayer)            [(None, 6)]          0                                            \n",
      "__________________________________________________________________________________________________\n",
      "dense (Dense)                   (None, 30)           210         input_2[0][0]                    \n",
      "__________________________________________________________________________________________________\n",
      "input_1 (InputLayer)            [(None, 5)]          0                                            \n",
      "__________________________________________________________________________________________________\n",
      "dense_1 (Dense)                 (None, 30)           930         dense[0][0]                      \n",
      "__________________________________________________________________________________________________\n",
      "concatenate (Concatenate)       (None, 35)           0           input_1[0][0]                    \n",
      "                                                                 dense_1[0][0]                    \n",
      "__________________________________________________________________________________________________\n",
      "dense_2 (Dense)                 (None, 1)            36          concatenate[0][0]                \n",
      "__________________________________________________________________________________________________\n",
      "dense_3 (Dense)                 (None, 1)            31          dense_1[0][0]                    \n",
      "==================================================================================================\n",
      "Total params: 1,207\n",
      "Trainable params: 1,207\n",
      "Non-trainable params: 0\n",
      "__________________________________________________________________________________________________\n"
     ]
    },
    {
     "name": "stderr",
     "output_type": "stream",
     "text": [
      "2021-07-26 18:02:08.879130: I tensorflow/core/platform/cpu_feature_guard.cc:142] This TensorFlow binary is optimized with oneAPI Deep Neural Network Library (oneDNN) to use the following CPU instructions in performance-critical operations:  AVX2 FMA\n",
      "To enable them in other operations, rebuild TensorFlow with the appropriate compiler flags.\n"
     ]
    }
   ],
   "source": [
    "# 多输出\n",
    "intput_wide = keras.layers.Input(shape=[5])\n",
    "intput_deep = keras.layers.Input(shape=[6])\n",
    "hidden1 = keras.layers.Dense(30,activation='relu')(intput_deep)\n",
    "hidden2 = keras.layers.Dense(30,activation='relu')(hidden1)\n",
    "concat = keras.layers.concatenate([intput_wide,hidden2])\n",
    "output1 = keras.layers.Dense(1)(concat)\n",
    "output2 = keras.layers.Dense(1)(hidden2)\n",
    "model = keras.models.Model(inputs=[intput_wide, intput_deep],\n",
    "                           outputs=[output1,output2])\n",
    "\n",
    "model.summary()\n",
    "model.compile(loss=\"mean_squared_error\", optimizer=\"adam\")\n",
    "callbacks = [keras.callbacks.EarlyStopping(\n",
    "    patience=5, min_delta=1e-2)]"
   ]
  },
  {
   "cell_type": "code",
   "execution_count": 6,
   "metadata": {},
   "outputs": [
    {
     "name": "stderr",
     "output_type": "stream",
     "text": [
      "2021-07-26 18:02:09.144327: I tensorflow/compiler/mlir/mlir_graph_optimization_pass.cc:176] None of the MLIR Optimization Passes are enabled (registered 2)\n"
     ]
    },
    {
     "name": "stdout",
     "output_type": "stream",
     "text": [
      "Epoch 1/10\n",
      "363/363 [==============================] - 3s 5ms/step - loss: 3.4570 - dense_2_loss: 1.5804 - dense_3_loss: 1.8767 - val_loss: 1.6867 - val_dense_2_loss: 0.7122 - val_dense_3_loss: 0.9745\n",
      "Epoch 2/10\n",
      "363/363 [==============================] - 1s 4ms/step - loss: 1.2824 - dense_2_loss: 0.5622 - dense_3_loss: 0.7202 - val_loss: 1.0967 - val_dense_2_loss: 0.4740 - val_dense_3_loss: 0.6228\n",
      "Epoch 3/10\n",
      "363/363 [==============================] - 2s 4ms/step - loss: 1.0158 - dense_2_loss: 0.4388 - dense_3_loss: 0.5770 - val_loss: 1.0171 - val_dense_2_loss: 0.4349 - val_dense_3_loss: 0.5822\n",
      "Epoch 4/10\n",
      "363/363 [==============================] - 2s 4ms/step - loss: 0.9443 - dense_2_loss: 0.4091 - dense_3_loss: 0.5352 - val_loss: 0.9588 - val_dense_2_loss: 0.4190 - val_dense_3_loss: 0.5398\n",
      "Epoch 5/10\n",
      "363/363 [==============================] - 2s 5ms/step - loss: 0.9017 - dense_2_loss: 0.3946 - dense_3_loss: 0.5071 - val_loss: 0.9178 - val_dense_2_loss: 0.4106 - val_dense_3_loss: 0.5072\n",
      "Epoch 6/10\n",
      "363/363 [==============================] - 2s 5ms/step - loss: 0.8620 - dense_2_loss: 0.3823 - dense_3_loss: 0.4798 - val_loss: 0.8720 - val_dense_2_loss: 0.3888 - val_dense_3_loss: 0.4831\n",
      "Epoch 7/10\n",
      "363/363 [==============================] - 2s 4ms/step - loss: 0.8334 - dense_2_loss: 0.3730 - dense_3_loss: 0.4605 - val_loss: 0.8562 - val_dense_2_loss: 0.3848 - val_dense_3_loss: 0.4714\n",
      "Epoch 8/10\n",
      "363/363 [==============================] - 2s 6ms/step - loss: 0.8083 - dense_2_loss: 0.3647 - dense_3_loss: 0.4436 - val_loss: 0.8289 - val_dense_2_loss: 0.3717 - val_dense_3_loss: 0.4572\n",
      "Epoch 9/10\n",
      "363/363 [==============================] - 2s 4ms/step - loss: 0.7873 - dense_2_loss: 0.3569 - dense_3_loss: 0.4304 - val_loss: 0.8010 - val_dense_2_loss: 0.3656 - val_dense_3_loss: 0.4354\n",
      "Epoch 10/10\n",
      "363/363 [==============================] - 1s 4ms/step - loss: 0.7771 - dense_2_loss: 0.3566 - dense_3_loss: 0.4205 - val_loss: 0.7983 - val_dense_2_loss: 0.3645 - val_dense_3_loss: 0.4338\n"
     ]
    }
   ],
   "source": [
    "x_train_scaled_wide = x_train_scaled[:,:5]\n",
    "x_train_scaled_deep = x_train_scaled[:,2:]\n",
    "x_valid_scaled_wide = x_valid_scaled[:,:5]\n",
    "x_valid_scaled_deep = x_valid_scaled[:,2:]\n",
    "x_test_scaled_wide = x_test_scaled[:,:5]\n",
    "x_test_scaled_deep = x_test_scaled[:,2:]\n",
    "history = model.fit([x_train_scaled_wide, x_train_scaled_deep], \n",
    "                    [y_train,y_train],\n",
    "                    validation_data = ([x_valid_scaled_wide,\n",
    "                                       x_valid_scaled_deep], \n",
    "                                       [y_valid,y_valid]),\n",
    "                    epochs = 10,\n",
    "                    callbacks = callbacks)"
   ]
  },
  {
   "cell_type": "code",
   "execution_count": 7,
   "metadata": {},
   "outputs": [
    {
     "data": {
      "image/png": "[encoded data removed]",
      "text/plain": [
       "<Figure size 576x360 with 1 Axes>"
      ]
     },
     "metadata": {
      "needs_background": "light"
     },
     "output_type": "display_data"
    }
   ],
   "source": [
    "def plot_learning_curves(history):\n",
    "    pd.DataFrame(history.history).plot(figsize=(8, 5))\n",
    "    plt.grid(True)\n",
    "    plt.gca().set_ylim(0, 1)\n",
    "    plt.show()\n",
    "plot_learning_curves(history)"
   ]
  },
  {
   "cell_type": "code",
   "execution_count": 8,
   "metadata": {},
   "outputs": [
    {
     "name": "stdout",
     "output_type": "stream",
     "text": [
      "162/162 [==============================] - 1s 4ms/step - loss: 0.8122 - dense_2_loss: 0.3721 - dense_3_loss: 0.4402A: 0s - loss: 0.8250 - dense_2_loss: 0.3730 - dense_3_loss:\n"
     ]
    },
    {
     "data": {
      "text/plain": [
       "[0.812246561050415, 0.37209552526474, 0.4401509165763855]"
      ]
     },
     "execution_count": 8,
     "metadata": {},
     "output_type": "execute_result"
    }
   ],
   "source": [
    "model.evaluate([x_test_scaled_wide,x_test_scaled_deep], y_test)"
   ]
  },
  {
   "cell_type": "code",
   "execution_count": 9,
   "metadata": {},
   "outputs": [],
   "source": [
    "h = history.history"
   ]
  },
  {
   "cell_type": "code",
   "execution_count": 13,
   "metadata": {},
   "outputs": [
    {
     "data": {
      "text/html": [
       "<div>\n",
       "<style scoped>\n",
       "    .dataframe tbody tr th:only-of-type {\n",
       "        vertical-align: middle;\n",
       "    }\n",
       "\n",
       "    .dataframe tbody tr th {\n",
       "        vertical-align: top;\n",
       "    }\n",
       "\n",
       "    .dataframe thead th {\n",
       "        text-align: right;\n",
       "    }\n",
       "</style>\n",
       "<table border=\"1\" class=\"dataframe\">\n",
       "  <thead>\n",
       "    <tr style=\"text-align: right;\">\n",
       "      <th></th>\n",
       "      <th>loss</th>\n",
       "      <th>dense_2_loss</th>\n",
       "      <th>dense_3_loss</th>\n",
       "      <th>val_loss</th>\n",
       "      <th>val_dense_2_loss</th>\n",
       "      <th>val_dense_3_loss</th>\n",
       "    </tr>\n",
       "  </thead>\n",
       "  <tbody>\n",
       "    <tr>\n",
       "      <th>0</th>\n",
       "      <td>3.457015</td>\n",
       "      <td>1.580363</td>\n",
       "      <td>1.876652</td>\n",
       "      <td>1.686673</td>\n",
       "      <td>0.712188</td>\n",
       "      <td>0.974485</td>\n",
       "    </tr>\n",
       "    <tr>\n",
       "      <th>1</th>\n",
       "      <td>1.282411</td>\n",
       "      <td>0.562214</td>\n",
       "      <td>0.720196</td>\n",
       "      <td>1.096743</td>\n",
       "      <td>0.473960</td>\n",
       "      <td>0.622783</td>\n",
       "    </tr>\n",
       "    <tr>\n",
       "      <th>2</th>\n",
       "      <td>1.015788</td>\n",
       "      <td>0.438764</td>\n",
       "      <td>0.577025</td>\n",
       "      <td>1.017148</td>\n",
       "      <td>0.434934</td>\n",
       "      <td>0.582213</td>\n",
       "    </tr>\n",
       "    <tr>\n",
       "      <th>3</th>\n",
       "      <td>0.944294</td>\n",
       "      <td>0.409115</td>\n",
       "      <td>0.535178</td>\n",
       "      <td>0.958809</td>\n",
       "      <td>0.419030</td>\n",
       "      <td>0.539779</td>\n",
       "    </tr>\n",
       "    <tr>\n",
       "      <th>4</th>\n",
       "      <td>0.901745</td>\n",
       "      <td>0.394616</td>\n",
       "      <td>0.507130</td>\n",
       "      <td>0.917769</td>\n",
       "      <td>0.410594</td>\n",
       "      <td>0.507176</td>\n",
       "    </tr>\n",
       "    <tr>\n",
       "      <th>5</th>\n",
       "      <td>0.862036</td>\n",
       "      <td>0.382275</td>\n",
       "      <td>0.479761</td>\n",
       "      <td>0.871958</td>\n",
       "      <td>0.388818</td>\n",
       "      <td>0.483141</td>\n",
       "    </tr>\n",
       "    <tr>\n",
       "      <th>6</th>\n",
       "      <td>0.833449</td>\n",
       "      <td>0.372975</td>\n",
       "      <td>0.460474</td>\n",
       "      <td>0.856246</td>\n",
       "      <td>0.384845</td>\n",
       "      <td>0.471400</td>\n",
       "    </tr>\n",
       "    <tr>\n",
       "      <th>7</th>\n",
       "      <td>0.808286</td>\n",
       "      <td>0.364687</td>\n",
       "      <td>0.443598</td>\n",
       "      <td>0.828924</td>\n",
       "      <td>0.371695</td>\n",
       "      <td>0.457229</td>\n",
       "    </tr>\n",
       "    <tr>\n",
       "      <th>8</th>\n",
       "      <td>0.787280</td>\n",
       "      <td>0.356919</td>\n",
       "      <td>0.430361</td>\n",
       "      <td>0.800977</td>\n",
       "      <td>0.365587</td>\n",
       "      <td>0.435390</td>\n",
       "    </tr>\n",
       "    <tr>\n",
       "      <th>9</th>\n",
       "      <td>0.777132</td>\n",
       "      <td>0.356619</td>\n",
       "      <td>0.420512</td>\n",
       "      <td>0.798296</td>\n",
       "      <td>0.364524</td>\n",
       "      <td>0.433772</td>\n",
       "    </tr>\n",
       "  </tbody>\n",
       "</table>\n",
       "</div>"
      ],
      "text/plain": [
       "       loss  dense_2_loss  dense_3_loss  val_loss  val_dense_2_loss  \\\n",
       "0  3.457015      1.580363      1.876652  1.686673          0.712188   \n",
       "1  1.282411      0.562214      0.720196  1.096743          0.473960   \n",
       "2  1.015788      0.438764      0.577025  1.017148          0.434934   \n",
       "3  0.944294      0.409115      0.535178  0.958809          0.419030   \n",
       "4  0.901745      0.394616      0.507130  0.917769          0.410594   \n",
       "5  0.862036      0.382275      0.479761  0.871958          0.388818   \n",
       "6  0.833449      0.372975      0.460474  0.856246          0.384845   \n",
       "7  0.808286      0.364687      0.443598  0.828924          0.371695   \n",
       "8  0.787280      0.356919      0.430361  0.800977          0.365587   \n",
       "9  0.777132      0.356619      0.420512  0.798296          0.364524   \n",
       "\n",
       "   val_dense_3_loss  \n",
       "0          0.974485  \n",
       "1          0.622783  \n",
       "2          0.582213  \n",
       "3          0.539779  \n",
       "4          0.507176  \n",
       "5          0.483141  \n",
       "6          0.471400  \n",
       "7          0.457229  \n",
       "8          0.435390  \n",
       "9          0.433772  "
      ]
     },
     "execution_count": 13,
     "metadata": {},
     "output_type": "execute_result"
    }
   ],
   "source": [
    "h.keys()\n",
    "pd.DataFrame(h)"
   ]
  }
 ],
 "metadata": {
  "kernelspec": {
   "display_name": "Python 3 (ipykernel)",
   "language": "python",
   "name": "python3"
  },
  "language_info": {
   "codemirror_mode": {
    "name": "ipython",
    "version": 3
   },
   "file_extension": ".py",
   "mimetype": "text/x-python",
   "name": "python",
   "nbconvert_exporter": "python",
   "pygments_lexer": "ipython3",
   "version": "3.8.5"
  }
 },
 "nbformat": 4,
 "nbformat_minor": 2
}
