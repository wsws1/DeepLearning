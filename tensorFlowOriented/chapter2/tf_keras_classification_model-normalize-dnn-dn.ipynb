{
 "cells": [
  {
   "cell_type": "markdown",
   "id": "a651492f",
   "metadata": {},
   "source": [
    "## DNN 与 批归一化"
   ]
  },
  {
   "cell_type": "markdown",
   "id": "38d1fe11",
   "metadata": {},
   "source": [
    "### 批归一化就是在每一个全连接层都作归一化的处理"
   ]
  },
  {
   "cell_type": "code",
   "execution_count": 1,
   "id": "3c1c039a",
   "metadata": {},
   "outputs": [],
   "source": [
    "import matplotlib as mpl\n",
    "import matplotlib.pyplot as plt\n",
    "import numpy as np\n",
    "import sklearn\n",
    "import pandas as pd\n",
    "import os,sys,time\n",
    "import tensorflow as tf\n",
    "from tensorflow import keras"
   ]
  },
  {
   "cell_type": "code",
   "execution_count": 2,
   "id": "560bfca4",
   "metadata": {},
   "outputs": [],
   "source": [
    "fashion_mnist = keras.datasets.fashion_mnist\n",
    "(X_train, y_train),(X_test, y_test) = fashion_mnist.load_data()\n",
    "X_train = X_train.reshape(X_train.shape[0],-1)\n",
    "X_test = X_test.reshape(X_test.shape[0],-1)\n",
    "X_valid, X_train = X_train[:5000],X_train[5000:]\n",
    "y_valid, y_train = y_train[:5000],y_train[5000:]"
   ]
  },
  {
   "cell_type": "code",
   "execution_count": 3,
   "id": "52afb17a",
   "metadata": {},
   "outputs": [
    {
     "data": {
      "text/plain": [
       "StandardScaler()"
      ]
     },
     "execution_count": 3,
     "metadata": {},
     "output_type": "execute_result"
    }
   ],
   "source": [
    "# x = (x - u) / std\n",
    "from sklearn.preprocessing import StandardScaler\n",
    "std_scaler = StandardScaler()\n",
    "std_scaler.fit(X_train.astype(np.float32))"
   ]
  },
  {
   "cell_type": "code",
   "execution_count": 4,
   "id": "e72f5da9",
   "metadata": {},
   "outputs": [],
   "source": [
    "# X_train_std = std_scaler.transform(X_train.astype(np.float32)).reshape(X_train.shape[0],28,28)\n",
    "# X_valid_std = std_scaler.transform(X_valid.astype(np.float32)).reshape(X_valid.shape[0],28,28)\n",
    "# X_test_std = std_scaler.transform(X_test.astype(np.float32)).reshape(X_test.shape[0],28,28)"
   ]
  },
  {
   "cell_type": "code",
   "execution_count": 5,
   "id": "b50c2d34",
   "metadata": {},
   "outputs": [
    {
     "name": "stderr",
     "output_type": "stream",
     "text": [
      "2021-07-25 17:06:28.697370: I tensorflow/core/platform/cpu_feature_guard.cc:142] This TensorFlow binary is optimized with oneAPI Deep Neural Network Library (oneDNN) to use the following CPU instructions in performance-critical operations:  AVX2 FMA\n",
      "To enable them in other operations, rebuild TensorFlow with the appropriate compiler flags.\n"
     ]
    }
   ],
   "source": [
    "# 使用sequential\n",
    "model = keras.models.Sequential()\n",
    "model.add(keras.layers.Flatten(input_shape=[28,28]))\n",
    "for _ in range(20):\n",
    "    model.add(keras.layers.Dense(100,activation='relu'))\n",
    "    model.add(keras.layers.BatchNormalization())\n",
    "    \"\"\"\n",
    "    方二\n",
    "    model.add(keras.layers.Dense(100))\n",
    "    model.add(keras.layers.BatchNormalization())\n",
    "    model.add(keras.layers.Activation('relu'))\n",
    "    \"\"\"\n",
    "model.add(keras.layers.Dense(10,activation='softmax'))\n",
    "\n",
    "model.compile(loss='sparse_categorical_crossentropy',\n",
    "             optimizer='sgd',\n",
    "             metrics=['accuracy'])"
   ]
  },
  {
   "cell_type": "code",
   "execution_count": 6,
   "id": "d282e7e6",
   "metadata": {},
   "outputs": [],
   "source": [
    "tf.keras.optimizers.Optimizer?"
   ]
  },
  {
   "cell_type": "code",
   "execution_count": 7,
   "id": "2bc1df37",
   "metadata": {},
   "outputs": [
    {
     "name": "stderr",
     "output_type": "stream",
     "text": [
      "2021-07-25 17:06:30.056758: I tensorflow/core/profiler/lib/profiler_session.cc:126] Profiler session initializing.\n",
      "2021-07-25 17:06:30.056900: I tensorflow/core/profiler/lib/profiler_session.cc:141] Profiler session started.\n",
      "2021-07-25 17:06:30.057438: I tensorflow/core/profiler/lib/profiler_session.cc:159] Profiler session tear down.\n"
     ]
    }
   ],
   "source": [
    "logdir='./dnn-callbacks'\n",
    "if not os.path.exists(logdir):\n",
    "    os.mkdir(logdir)\n",
    "output_model_file = os.path.join(logdir,\"fashion_minist_model.h5\")\n",
    "callbacks = [\n",
    "    keras.callbacks.TensorBoard(logdir),\n",
    "    keras.callbacks.ModelCheckpoint(output_model_file,\n",
    "                                   save_best_only=True),\n",
    "    keras.callbacks.EarlyStopping(patience=5,min_delta=1e-3)\n",
    "]"
   ]
  },
  {
   "cell_type": "code",
   "execution_count": 8,
   "id": "3e4a16f6",
   "metadata": {},
   "outputs": [
    {
     "data": {
      "text/plain": [
       "[<tensorflow.python.keras.layers.core.Flatten at 0x1059483d0>,\n",
       " <tensorflow.python.keras.layers.core.Dense at 0x105948700>,\n",
       " <tensorflow.python.keras.layers.normalization_v2.BatchNormalization at 0x152081d30>,\n",
       " <tensorflow.python.keras.layers.core.Dense at 0x1520d96d0>,\n",
       " <tensorflow.python.keras.layers.normalization_v2.BatchNormalization at 0x152186c10>,\n",
       " <tensorflow.python.keras.layers.core.Dense at 0x1521a2550>,\n",
       " <tensorflow.python.keras.layers.normalization_v2.BatchNormalization at 0x15219b1c0>,\n",
       " <tensorflow.python.keras.layers.core.Dense at 0x1521ade50>,\n",
       " <tensorflow.python.keras.layers.normalization_v2.BatchNormalization at 0x15219bcd0>,\n",
       " <tensorflow.python.keras.layers.core.Dense at 0x1521bb730>,\n",
       " <tensorflow.python.keras.layers.normalization_v2.BatchNormalization at 0x1521be160>,\n",
       " <tensorflow.python.keras.layers.core.Dense at 0x1521be250>,\n",
       " <tensorflow.python.keras.layers.normalization_v2.BatchNormalization at 0x1521bb940>,\n",
       " <tensorflow.python.keras.layers.core.Dense at 0x1521d8100>,\n",
       " <tensorflow.python.keras.layers.normalization_v2.BatchNormalization at 0x1521d8400>,\n",
       " <tensorflow.python.keras.layers.core.Dense at 0x1521e40a0>,\n",
       " <tensorflow.python.keras.layers.normalization_v2.BatchNormalization at 0x1521e4c40>,\n",
       " <tensorflow.python.keras.layers.core.Dense at 0x1521e95b0>,\n",
       " <tensorflow.python.keras.layers.normalization_v2.BatchNormalization at 0x1521f5220>,\n",
       " <tensorflow.python.keras.layers.core.Dense at 0x1521e99d0>,\n",
       " <tensorflow.python.keras.layers.normalization_v2.BatchNormalization at 0x1521fa070>,\n",
       " <tensorflow.python.keras.layers.core.Dense at 0x1521fe070>,\n",
       " <tensorflow.python.keras.layers.normalization_v2.BatchNormalization at 0x1521faee0>,\n",
       " <tensorflow.python.keras.layers.core.Dense at 0x15220f490>,\n",
       " <tensorflow.python.keras.layers.normalization_v2.BatchNormalization at 0x152208dc0>,\n",
       " <tensorflow.python.keras.layers.core.Dense at 0x1521e9250>,\n",
       " <tensorflow.python.keras.layers.normalization_v2.BatchNormalization at 0x1521c6730>,\n",
       " <tensorflow.python.keras.layers.core.Dense at 0x1522087c0>,\n",
       " <tensorflow.python.keras.layers.normalization_v2.BatchNormalization at 0x152208c10>,\n",
       " <tensorflow.python.keras.layers.core.Dense at 0x1521ad4f0>,\n",
       " <tensorflow.python.keras.layers.normalization_v2.BatchNormalization at 0x1520d9d60>,\n",
       " <tensorflow.python.keras.layers.core.Dense at 0x1520d9700>,\n",
       " <tensorflow.python.keras.layers.normalization_v2.BatchNormalization at 0x15219b5b0>,\n",
       " <tensorflow.python.keras.layers.core.Dense at 0x152216460>,\n",
       " <tensorflow.python.keras.layers.normalization_v2.BatchNormalization at 0x1522162b0>,\n",
       " <tensorflow.python.keras.layers.core.Dense at 0x15221e340>,\n",
       " <tensorflow.python.keras.layers.normalization_v2.BatchNormalization at 0x15221e760>,\n",
       " <tensorflow.python.keras.layers.core.Dense at 0x152221e50>,\n",
       " <tensorflow.python.keras.layers.normalization_v2.BatchNormalization at 0x152221100>,\n",
       " <tensorflow.python.keras.layers.core.Dense at 0x152229ca0>,\n",
       " <tensorflow.python.keras.layers.normalization_v2.BatchNormalization at 0x15222d9d0>,\n",
       " <tensorflow.python.keras.layers.core.Dense at 0x1520817c0>]"
      ]
     },
     "execution_count": 8,
     "metadata": {},
     "output_type": "execute_result"
    }
   ],
   "source": [
    "model.layers"
   ]
  },
  {
   "cell_type": "code",
   "execution_count": 9,
   "id": "b7496894",
   "metadata": {},
   "outputs": [
    {
     "name": "stdout",
     "output_type": "stream",
     "text": [
      "Model: \"sequential\"\n",
      "_________________________________________________________________\n",
      "Layer (type)                 Output Shape              Param #   \n",
      "=================================================================\n",
      "flatten (Flatten)            (None, 784)               0         \n",
      "_________________________________________________________________\n",
      "dense (Dense)                (None, 100)               78500     \n",
      "_________________________________________________________________\n",
      "batch_normalization (BatchNo (None, 100)               400       \n",
      "_________________________________________________________________\n",
      "dense_1 (Dense)              (None, 100)               10100     \n",
      "_________________________________________________________________\n",
      "batch_normalization_1 (Batch (None, 100)               400       \n",
      "_________________________________________________________________\n",
      "dense_2 (Dense)              (None, 100)               10100     \n",
      "_________________________________________________________________\n",
      "batch_normalization_2 (Batch (None, 100)               400       \n",
      "_________________________________________________________________\n",
      "dense_3 (Dense)              (None, 100)               10100     \n",
      "_________________________________________________________________\n",
      "batch_normalization_3 (Batch (None, 100)               400       \n",
      "_________________________________________________________________\n",
      "dense_4 (Dense)              (None, 100)               10100     \n",
      "_________________________________________________________________\n",
      "batch_normalization_4 (Batch (None, 100)               400       \n",
      "_________________________________________________________________\n",
      "dense_5 (Dense)              (None, 100)               10100     \n",
      "_________________________________________________________________\n",
      "batch_normalization_5 (Batch (None, 100)               400       \n",
      "_________________________________________________________________\n",
      "dense_6 (Dense)              (None, 100)               10100     \n",
      "_________________________________________________________________\n",
      "batch_normalization_6 (Batch (None, 100)               400       \n",
      "_________________________________________________________________\n",
      "dense_7 (Dense)              (None, 100)               10100     \n",
      "_________________________________________________________________\n",
      "batch_normalization_7 (Batch (None, 100)               400       \n",
      "_________________________________________________________________\n",
      "dense_8 (Dense)              (None, 100)               10100     \n",
      "_________________________________________________________________\n",
      "batch_normalization_8 (Batch (None, 100)               400       \n",
      "_________________________________________________________________\n",
      "dense_9 (Dense)              (None, 100)               10100     \n",
      "_________________________________________________________________\n",
      "batch_normalization_9 (Batch (None, 100)               400       \n",
      "_________________________________________________________________\n",
      "dense_10 (Dense)             (None, 100)               10100     \n",
      "_________________________________________________________________\n",
      "batch_normalization_10 (Batc (None, 100)               400       \n",
      "_________________________________________________________________\n",
      "dense_11 (Dense)             (None, 100)               10100     \n",
      "_________________________________________________________________\n",
      "batch_normalization_11 (Batc (None, 100)               400       \n",
      "_________________________________________________________________\n",
      "dense_12 (Dense)             (None, 100)               10100     \n",
      "_________________________________________________________________\n",
      "batch_normalization_12 (Batc (None, 100)               400       \n",
      "_________________________________________________________________\n",
      "dense_13 (Dense)             (None, 100)               10100     \n",
      "_________________________________________________________________\n",
      "batch_normalization_13 (Batc (None, 100)               400       \n",
      "_________________________________________________________________\n",
      "dense_14 (Dense)             (None, 100)               10100     \n",
      "_________________________________________________________________\n",
      "batch_normalization_14 (Batc (None, 100)               400       \n",
      "_________________________________________________________________\n",
      "dense_15 (Dense)             (None, 100)               10100     \n",
      "_________________________________________________________________\n",
      "batch_normalization_15 (Batc (None, 100)               400       \n",
      "_________________________________________________________________\n",
      "dense_16 (Dense)             (None, 100)               10100     \n",
      "_________________________________________________________________\n",
      "batch_normalization_16 (Batc (None, 100)               400       \n",
      "_________________________________________________________________\n",
      "dense_17 (Dense)             (None, 100)               10100     \n",
      "_________________________________________________________________\n",
      "batch_normalization_17 (Batc (None, 100)               400       \n",
      "_________________________________________________________________\n",
      "dense_18 (Dense)             (None, 100)               10100     \n",
      "_________________________________________________________________\n",
      "batch_normalization_18 (Batc (None, 100)               400       \n",
      "_________________________________________________________________\n",
      "dense_19 (Dense)             (None, 100)               10100     \n",
      "_________________________________________________________________\n",
      "batch_normalization_19 (Batc (None, 100)               400       \n",
      "_________________________________________________________________\n",
      "dense_20 (Dense)             (None, 10)                1010      \n",
      "=================================================================\n",
      "Total params: 279,410\n",
      "Trainable params: 275,410\n",
      "Non-trainable params: 4,000\n",
      "_________________________________________________________________\n"
     ]
    }
   ],
   "source": [
    "model.summary()"
   ]
  },
  {
   "cell_type": "code",
   "execution_count": 10,
   "id": "223b5dca",
   "metadata": {},
   "outputs": [],
   "source": [
    "#关于全连接层参数量的解释，第一个全连接层为例\n",
    "#[None, 784]* W +b =[None, 300] W.shape=[784, 300], b=[300]\n",
    "# 784*300 + 300 = 235500"
   ]
  },
  {
   "cell_type": "code",
   "execution_count": 11,
   "id": "ce006f43",
   "metadata": {},
   "outputs": [
    {
     "data": {
      "text/plain": [
       "(55000, 784)"
      ]
     },
     "execution_count": 11,
     "metadata": {},
     "output_type": "execute_result"
    }
   ],
   "source": [
    "X_train.shape"
   ]
  },
  {
   "cell_type": "code",
   "execution_count": 13,
   "id": "5bbf260c",
   "metadata": {
    "pycharm": {
     "is_executing": true
    }
   },
   "outputs": [
    {
     "name": "stdout",
     "output_type": "stream",
     "text": [
      "Epoch 1/5\n",
      "WARNING:tensorflow:Model was constructed with shape (None, 28, 28) for input KerasTensor(type_spec=TensorSpec(shape=(None, 28, 28), dtype=tf.float32, name='flatten_input'), name='flatten_input', description=\"created by layer 'flatten_input'\"), but it was called on an input with incompatible shape (None, 784).\n"
     ]
    },
    {
     "name": "stderr",
     "output_type": "stream",
     "text": [
      "2021-07-25 17:06:53.605970: I tensorflow/compiler/mlir/mlir_graph_optimization_pass.cc:176] None of the MLIR Optimization Passes are enabled (registered 2)\n"
     ]
    },
    {
     "name": "stdout",
     "output_type": "stream",
     "text": [
      "WARNING:tensorflow:Model was constructed with shape (None, 28, 28) for input KerasTensor(type_spec=TensorSpec(shape=(None, 28, 28), dtype=tf.float32, name='flatten_input'), name='flatten_input', description=\"created by layer 'flatten_input'\"), but it was called on an input with incompatible shape (None, 784).\n",
      "  17/1719 [..............................] - ETA: 36s - loss: 2.8772 - accuracy: 0.1085"
     ]
    },
    {
     "name": "stderr",
     "output_type": "stream",
     "text": [
      "2021-07-25 17:07:00.120295: I tensorflow/core/profiler/lib/profiler_session.cc:126] Profiler session initializing.\n",
      "2021-07-25 17:07:00.120319: I tensorflow/core/profiler/lib/profiler_session.cc:141] Profiler session started.\n",
      "2021-07-25 17:07:00.132365: I tensorflow/core/profiler/lib/profiler_session.cc:66] Profiler session collecting data.\n",
      "2021-07-25 17:07:00.146477: I tensorflow/core/profiler/lib/profiler_session.cc:159] Profiler session tear down.\n",
      "2021-07-25 17:07:00.156889: I tensorflow/core/profiler/rpc/client/save_profile.cc:137] Creating directory: ./dnn-callbacks/train/plugins/profile/2021_07_25_17_07_00\n",
      "2021-07-25 17:07:00.161059: I tensorflow/core/profiler/rpc/client/save_profile.cc:143] Dumped gzipped tool data for trace.json.gz to ./dnn-callbacks/train/plugins/profile/2021_07_25_17_07_00/simodeMacBook-Pro.local.trace.json.gz\n",
      "2021-07-25 17:07:00.190959: I tensorflow/core/profiler/rpc/client/save_profile.cc:137] Creating directory: ./dnn-callbacks/train/plugins/profile/2021_07_25_17_07_00\n",
      "2021-07-25 17:07:00.191611: I tensorflow/core/profiler/rpc/client/save_profile.cc:143] Dumped gzipped tool data for memory_profile.json.gz to ./dnn-callbacks/train/plugins/profile/2021_07_25_17_07_00/simodeMacBook-Pro.local.memory_profile.json.gz\n",
      "2021-07-25 17:07:00.195196: I tensorflow/core/profiler/rpc/client/capture_profile.cc:251] Creating directory: ./dnn-callbacks/train/plugins/profile/2021_07_25_17_07_00Dumped tool data for xplane.pb to ./dnn-callbacks/train/plugins/profile/2021_07_25_17_07_00/simodeMacBook-Pro.local.xplane.pb\n",
      "Dumped tool data for overview_page.pb to ./dnn-callbacks/train/plugins/profile/2021_07_25_17_07_00/simodeMacBook-Pro.local.overview_page.pb\n",
      "Dumped tool data for input_pipeline.pb to ./dnn-callbacks/train/plugins/profile/2021_07_25_17_07_00/simodeMacBook-Pro.local.input_pipeline.pb\n",
      "Dumped tool data for tensorflow_stats.pb to ./dnn-callbacks/train/plugins/profile/2021_07_25_17_07_00/simodeMacBook-Pro.local.tensorflow_stats.pb\n",
      "Dumped tool data for kernel_stats.pb to ./dnn-callbacks/train/plugins/profile/2021_07_25_17_07_00/simodeMacBook-Pro.local.kernel_stats.pb\n",
      "\n"
     ]
    },
    {
     "name": "stdout",
     "output_type": "stream",
     "text": [
      "1716/1719 [============================>.] - ETA: 0s - loss: 1.1067 - accuracy: 0.6057WARNING:tensorflow:Model was constructed with shape (None, 28, 28) for input KerasTensor(type_spec=TensorSpec(shape=(None, 28, 28), dtype=tf.float32, name='flatten_input'), name='flatten_input', description=\"created by layer 'flatten_input'\"), but it was called on an input with incompatible shape (None, 784).\n",
      "1719/1719 [==============================] - 20s 8ms/step - loss: 1.1062 - accuracy: 0.6059 - val_loss: 0.6643 - val_accuracy: 0.7654\n",
      "Epoch 2/5\n",
      "1719/1719 [==============================] - 12s 7ms/step - loss: 0.7594 - accuracy: 0.7281 - val_loss: 0.5879 - val_accuracy: 0.7866\n",
      "Epoch 3/5\n",
      "1719/1719 [==============================] - 13s 8ms/step - loss: 0.6648 - accuracy: 0.7611 - val_loss: 0.5496 - val_accuracy: 0.8042\n",
      "Epoch 4/5\n",
      "1719/1719 [==============================] - 19s 11ms/step - loss: 0.6004 - accuracy: 0.7897 - val_loss: 0.5417 - val_accuracy: 0.8084\n",
      "Epoch 5/5\n",
      "1719/1719 [==============================] - 22s 13ms/step - loss: 0.5647 - accuracy: 0.8024 - val_loss: 0.4844 - val_accuracy: 0.8256\n"
     ]
    }
   ],
   "source": [
    "history = model.fit(X_train, y_train, epochs=5,\n",
    "         validation_data=(X_valid, y_valid),\n",
    "                   callbacks=callbacks)"
   ]
  },
  {
   "cell_type": "code",
   "execution_count": null,
   "id": "ea7e1231",
   "metadata": {
    "pycharm": {
     "is_executing": true
    }
   },
   "outputs": [],
   "source": [
    "history.history"
   ]
  },
  {
   "cell_type": "code",
   "execution_count": 15,
   "id": "1b8adf19",
   "metadata": {
    "pycharm": {
     "is_executing": true
    }
   },
   "outputs": [
    {
     "data": {
      "image/png": "[encoded data removed]",
      "text/plain": [
       "<Figure size 576x360 with 1 Axes>"
      ]
     },
     "metadata": {
      "needs_background": "light"
     },
     "output_type": "display_data"
    }
   ],
   "source": [
    "def plot_learning_curves(history):\n",
    "    pd.DataFrame(history.history).plot(figsize=(8,5))\n",
    "    plt.grid(True)\n",
    "    plt.gca().set_ylim(0,1.5)\n",
    "    plt.show()\n",
    "plot_learning_curves(history)"
   ]
  },
  {
   "cell_type": "code",
   "execution_count": 16,
   "id": "c5ae35b3",
   "metadata": {},
   "outputs": [
    {
     "ename": "NameError",
     "evalue": "name 'X_test_std' is not defined",
     "output_type": "error",
     "traceback": [
      "\u001b[0;31m---------------------------------------------------------------------------\u001b[0m",
      "\u001b[0;31mNameError\u001b[0m                                 Traceback (most recent call last)",
      "\u001b[0;32m/var/folders/hv/v_yv9yqn3710j4mt30fqjsy00000gn/T/ipykernel_38184/2097128817.py\u001b[0m in \u001b[0;36m<module>\u001b[0;34m\u001b[0m\n\u001b[0;32m----> 1\u001b[0;31m \u001b[0mmodel\u001b[0m\u001b[0;34m.\u001b[0m\u001b[0mevaluate\u001b[0m\u001b[0;34m(\u001b[0m\u001b[0mX_test_std\u001b[0m\u001b[0;34m,\u001b[0m\u001b[0my_test\u001b[0m\u001b[0;34m)\u001b[0m\u001b[0;34m\u001b[0m\u001b[0;34m\u001b[0m\u001b[0m\n\u001b[0m",
      "\u001b[0;31mNameError\u001b[0m: name 'X_test_std' is not defined"
     ]
    }
   ],
   "source": [
    "model.evaluate(X_test_std,y_test)"
   ]
  }
 ],
 "metadata": {
  "kernelspec": {
   "display_name": "Python 3 (ipykernel)",
   "language": "python",
   "name": "python3"
  },
  "language_info": {
   "codemirror_mode": {
    "name": "ipython",
    "version": 3
   },
   "file_extension": ".py",
   "mimetype": "text/x-python",
   "name": "python",
   "nbconvert_exporter": "python",
   "pygments_lexer": "ipython3",
   "version": "3.8.5"
  }
 },
 "nbformat": 4,
 "nbformat_minor": 5
}
